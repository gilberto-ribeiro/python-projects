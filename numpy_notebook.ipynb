{
 "cells": [
  {
   "attachments": {},
   "cell_type": "markdown",
   "metadata": {},
   "source": [
    "# Comparação NumPy e Octave\n",
    "[NumPy for MATLAB users](https://numpy.org/doc/stable/user/numpy-for-matlab-users.html)"
   ]
  },
  {
   "attachments": {},
   "cell_type": "markdown",
   "metadata": {},
   "source": [
    "## Equivalência na Álgebra Linear"
   ]
  },
  {
   "cell_type": "code",
   "execution_count": 498,
   "metadata": {},
   "outputs": [],
   "source": [
    "import numpy as np\n",
    "from scipy import io, integrate, linalg, signal\n",
    "from scipy.sparse.linalg import cg, eigs"
   ]
  },
  {
   "cell_type": "code",
   "execution_count": 499,
   "metadata": {},
   "outputs": [
    {
     "name": "stdout",
     "output_type": "stream",
     "text": [
      "Matriz a:\n",
      "[[ 1  2  3 10]\n",
      " [ 4  5  6 11]\n",
      " [ 7  8  9 12]]\n"
     ]
    }
   ],
   "source": [
    "print('Matriz a:')\n",
    "a = np.array([[1, 2, 3, 10], [4, 5, 6, 11], [7, 8, 9, 12]])\n",
    "print(a)"
   ]
  },
  {
   "cell_type": "code",
   "execution_count": 500,
   "metadata": {},
   "outputs": [
    {
     "name": "stdout",
     "output_type": "stream",
     "text": [
      "Último elemento: 12 ou 12\n",
      "Elemento a(3,2): 8 ou 8\n",
      "Número de dimensões: 2\n",
      "Número de elementos: 12\n",
      "Dimensões: (3, 4)\n",
      "Dimensão 1: 3 | Dimensão 2: 4\n"
     ]
    }
   ],
   "source": [
    "print('Último elemento:', a[-1, -1], 'ou', a[-1][-1])\n",
    "print('Elemento a(3,2):', a[2, 1], 'ou', a[2][1])\n",
    "print('Número de dimensões:', a.ndim)\n",
    "print('Número de elementos:', a.size)\n",
    "print('Dimensões:', a.shape)\n",
    "print('Dimensão 1:', a.shape[0], '| Dimensão 2:', a.shape[1])"
   ]
  },
  {
   "cell_type": "code",
   "execution_count": 501,
   "metadata": {},
   "outputs": [
    {
     "name": "stdout",
     "output_type": "stream",
     "text": [
      "Primeiras duas colunas de a:\n",
      "[[ 1  2  3 10]\n",
      " [ 4  5  6 11]]\n",
      "[[ 1  2  3 10]\n",
      " [ 4  5  6 11]]\n",
      "[[ 1  2  3 10]\n",
      " [ 4  5  6 11]]\n"
     ]
    }
   ],
   "source": [
    "print('Primeiras duas colunas de a:')\n",
    "print(a[0:2])\n",
    "print(a[:2])\n",
    "print(a[:2, :])"
   ]
  },
  {
   "cell_type": "code",
   "execution_count": 502,
   "metadata": {},
   "outputs": [
    {
     "name": "stdout",
     "output_type": "stream",
     "text": [
      "Últimas duas colunas de a:\n",
      "[[ 4  5  6 11]\n",
      " [ 7  8  9 12]]\n"
     ]
    }
   ],
   "source": [
    "print('Últimas duas colunas de a:')\n",
    "print(a[-2:])"
   ]
  },
  {
   "cell_type": "code",
   "execution_count": 503,
   "metadata": {},
   "outputs": [
    {
     "name": "stdout",
     "output_type": "stream",
     "text": [
      "a(2:3,3:4):\n",
      "[[ 6 11]\n",
      " [ 9 12]]\n"
     ]
    }
   ],
   "source": [
    "print('a(2:3,3:4):')\n",
    "print(a[1:3, 2:4])"
   ]
  },
  {
   "cell_type": "code",
   "execution_count": 504,
   "metadata": {},
   "outputs": [
    {
     "name": "stdout",
     "output_type": "stream",
     "text": [
      "a(1:2:3):\n",
      "[[ 1  2  3 10]\n",
      " [ 7  8  9 12]]\n"
     ]
    }
   ],
   "source": [
    "print('a(1:2:3):')\n",
    "print(a[0:3:2])"
   ]
  },
  {
   "cell_type": "code",
   "execution_count": 505,
   "metadata": {},
   "outputs": [
    {
     "name": "stdout",
     "output_type": "stream",
     "text": [
      "Transpostas de a:\n",
      "[[ 1  4  7]\n",
      " [ 2  5  8]\n",
      " [ 3  6  9]\n",
      " [10 11 12]]\n",
      "[[ 1  4  7]\n",
      " [ 2  5  8]\n",
      " [ 3  6  9]\n",
      " [10 11 12]]\n"
     ]
    }
   ],
   "source": [
    "print(\"Transpostas de a:\")\n",
    "print(a.transpose())\n",
    "print(a.T)"
   ]
  },
  {
   "cell_type": "code",
   "execution_count": 506,
   "metadata": {},
   "outputs": [
    {
     "name": "stdout",
     "output_type": "stream",
     "text": [
      "Transposta conjugada de a:\n",
      "[[ 1  4  7]\n",
      " [ 2  5  8]\n",
      " [ 3  6  9]\n",
      " [10 11 12]]\n",
      "[[ 1  4  7]\n",
      " [ 2  5  8]\n",
      " [ 3  6  9]\n",
      " [10 11 12]]\n"
     ]
    }
   ],
   "source": [
    "print('Transposta conjugada de a:')\n",
    "print(a.conj().transpose())\n",
    "print(a.conj().T)"
   ]
  },
  {
   "cell_type": "code",
   "execution_count": 507,
   "metadata": {},
   "outputs": [
    {
     "name": "stdout",
     "output_type": "stream",
     "text": [
      "Matriz b:\n",
      "[[9 5 1]\n",
      " [6 2 7]\n",
      " [3 8 4]\n",
      " [7 5 3]]\n"
     ]
    }
   ],
   "source": [
    "print('Matriz b:')\n",
    "b = np.array([[9, 5, 1], [6, 2, 7], [3, 8, 4], [7, 5, 3]])\n",
    "print(b)"
   ]
  },
  {
   "cell_type": "code",
   "execution_count": 508,
   "metadata": {},
   "outputs": [
    {
     "name": "stdout",
     "output_type": "stream",
     "text": [
      "Multiplicação matricial (a*b):\n",
      "[[100  83  57]\n",
      " [161 133  96]\n",
      " [222 183 135]]\n"
     ]
    }
   ],
   "source": [
    "print('Multiplicação matricial (a*b):')\n",
    "print(a @ b)"
   ]
  },
  {
   "cell_type": "code",
   "execution_count": 509,
   "metadata": {},
   "outputs": [
    {
     "name": "stdout",
     "output_type": "stream",
     "text": [
      "Multiplicação elemento a elemento (a'.*b):\n",
      "[[ 9 20  7]\n",
      " [12 10 56]\n",
      " [ 9 48 36]\n",
      " [70 55 36]]\n"
     ]
    }
   ],
   "source": [
    "print(\"Multiplicação elemento a elemento (a'.*b):\")\n",
    "print(a.T * b)"
   ]
  },
  {
   "cell_type": "code",
   "execution_count": 510,
   "metadata": {},
   "outputs": [
    {
     "name": "stdout",
     "output_type": "stream",
     "text": [
      "Divisão elemento a elemento (a'./b):\n",
      "[[0.11111111 0.8        7.        ]\n",
      " [0.33333333 2.5        1.14285714]\n",
      " [1.         0.75       2.25      ]\n",
      " [1.42857143 2.2        4.        ]]\n"
     ]
    }
   ],
   "source": [
    "print(\"Divisão elemento a elemento (a'./b):\")\n",
    "print(a.T / b)"
   ]
  },
  {
   "cell_type": "code",
   "execution_count": 511,
   "metadata": {},
   "outputs": [
    {
     "name": "stdout",
     "output_type": "stream",
     "text": [
      "Exponencação elemento a elemento (a^3):\n",
      "[[   1    8   27 1000]\n",
      " [  64  125  216 1331]\n",
      " [ 343  512  729 1728]]\n"
     ]
    }
   ],
   "source": [
    "print('Exponencação elemento a elemento (a^3):')\n",
    "print(a**3)"
   ]
  },
  {
   "cell_type": "code",
   "execution_count": 512,
   "metadata": {},
   "outputs": [
    {
     "name": "stdout",
     "output_type": "stream",
     "text": [
      "Comparação entre valores (a>5):\n",
      "[[False False False  True]\n",
      " [False False  True  True]\n",
      " [ True  True  True  True]]\n"
     ]
    }
   ],
   "source": [
    "print('Comparação entre valores (a>5):')\n",
    "print(a > 5)"
   ]
  },
  {
   "cell_type": "code",
   "execution_count": 513,
   "metadata": {},
   "outputs": [
    {
     "name": "stdout",
     "output_type": "stream",
     "text": [
      "Matriz c:\n",
      "[[ 1  2  3 10]\n",
      " [ 4  5  6 11]\n",
      " [ 7  8  9 12]]\n"
     ]
    }
   ],
   "source": [
    "print('Matriz c:')\n",
    "c = a.copy()\n",
    "print(c)"
   ]
  },
  {
   "cell_type": "code",
   "execution_count": 514,
   "metadata": {},
   "outputs": [
    {
     "name": "stdout",
     "output_type": "stream",
     "text": [
      "Range de 1 a 10:\n",
      "[ 1  2  3  4  5  6  7  8  9 10]\n",
      "[ 1  2  3  4  5  6  7  8  9 10]\n",
      "[ 1  2  3  4  5  6  7  8  9 10]\n"
     ]
    }
   ],
   "source": [
    "print('Range de 1 a 10:')\n",
    "print(np.array(range(1, 11)))\n",
    "print(np.arange(1, 11))\n",
    "print(np.r_[1:11])"
   ]
  },
  {
   "cell_type": "code",
   "execution_count": 515,
   "metadata": {},
   "outputs": [
    {
     "name": "stdout",
     "output_type": "stream",
     "text": [
      "Range de 0 a 9:\n",
      "[0 1 2 3 4 5 6 7 8 9]\n",
      "[0 1 2 3 4 5 6 7 8 9]\n",
      "[0 1 2 3 4 5 6 7 8 9]\n"
     ]
    }
   ],
   "source": [
    "print('Range de 0 a 9:')\n",
    "print(np.array(range(10)))\n",
    "print(np.arange(10))\n",
    "print(np.r_[:10])"
   ]
  },
  {
   "cell_type": "code",
   "execution_count": 516,
   "metadata": {},
   "outputs": [
    {
     "name": "stdout",
     "output_type": "stream",
     "text": [
      "Vetor coluna de 0 a 9 ([0:9]'):\n",
      "[[0]\n",
      " [1]\n",
      " [2]\n",
      " [3]\n",
      " [4]\n",
      " [5]\n",
      " [6]\n",
      " [7]\n",
      " [8]\n",
      " [9]]\n"
     ]
    }
   ],
   "source": [
    "print(\"Vetor coluna de 0 a 9 ([0:9]'):\")\n",
    "print(np.arange(10)[:, np.newaxis])"
   ]
  },
  {
   "cell_type": "code",
   "execution_count": 517,
   "metadata": {},
   "outputs": [
    {
     "name": "stdout",
     "output_type": "stream",
     "text": [
      "Matriz 3 x 4 de zeros:\n",
      "[[0. 0. 0. 0.]\n",
      " [0. 0. 0. 0.]\n",
      " [0. 0. 0. 0.]]\n"
     ]
    }
   ],
   "source": [
    "print('Matriz 3 x 4 de zeros:')\n",
    "print(np.zeros((3, 4)))"
   ]
  },
  {
   "cell_type": "code",
   "execution_count": 518,
   "metadata": {},
   "outputs": [
    {
     "name": "stdout",
     "output_type": "stream",
     "text": [
      "Matriz 3 x 4 de uns:\n",
      "[[1. 1. 1. 1.]\n",
      " [1. 1. 1. 1.]\n",
      " [1. 1. 1. 1.]]\n"
     ]
    }
   ],
   "source": [
    "print('Matriz 3 x 4 de uns:')\n",
    "print(np.ones((3, 4)))"
   ]
  },
  {
   "cell_type": "code",
   "execution_count": 519,
   "metadata": {},
   "outputs": [
    {
     "name": "stdout",
     "output_type": "stream",
     "text": [
      "Matriz identidade 4 x 4:\n",
      "[[1. 0. 0. 0.]\n",
      " [0. 1. 0. 0.]\n",
      " [0. 0. 1. 0.]\n",
      " [0. 0. 0. 1.]]\n"
     ]
    }
   ],
   "source": [
    "print('Matriz identidade 4 x 4:')\n",
    "print(np.eye(4))"
   ]
  },
  {
   "cell_type": "code",
   "execution_count": 520,
   "metadata": {},
   "outputs": [
    {
     "name": "stdout",
     "output_type": "stream",
     "text": [
      "Vetor diagonal de a:\n",
      "[1 5 9]\n"
     ]
    }
   ],
   "source": [
    "print('Vetor diagonal de a:')\n",
    "print(np.diag(a))"
   ]
  },
  {
   "cell_type": "code",
   "execution_count": 521,
   "metadata": {},
   "outputs": [
    {
     "name": "stdout",
     "output_type": "stream",
     "text": [
      "Intervalo de 0 a 100 dividino em 5 elementos:\n",
      "[  0.  25.  50.  75. 100.]\n"
     ]
    }
   ],
   "source": [
    "print('Intervalo de 0 a 100 dividino em 5 elementos:')\n",
    "print(np.linspace(0, 100, 5))"
   ]
  },
  {
   "cell_type": "code",
   "execution_count": 522,
   "metadata": {},
   "outputs": [
    {
     "name": "stdout",
     "output_type": "stream",
     "text": [
      "Matriz 4 x 5 de elementos iguais a 3:\n",
      "[[3 3 3 3 3]\n",
      " [3 3 3 3 3]\n",
      " [3 3 3 3 3]\n",
      " [3 3 3 3 3]]\n"
     ]
    }
   ],
   "source": [
    "print('Matriz 4 x 5 de elementos iguais a 3:')\n",
    "print(np.tile(3, (4, 5)))"
   ]
  },
  {
   "cell_type": "code",
   "execution_count": 523,
   "metadata": {},
   "outputs": [
    {
     "name": "stdout",
     "output_type": "stream",
     "text": [
      "Matriz d:\n",
      "[[1 2 3]\n",
      " [4 5 6]\n",
      " [7 8 9]]\n"
     ]
    }
   ],
   "source": [
    "print('Matriz d:')\n",
    "d = np.array([[1, 2, 3], [4, 5, 6], [7, 8, 9]])\n",
    "print(d)"
   ]
  },
  {
   "cell_type": "code",
   "execution_count": 524,
   "metadata": {},
   "outputs": [
    {
     "name": "stdout",
     "output_type": "stream",
     "text": [
      "Matriz e:\n",
      "[[11 12 13]\n",
      " [14 15 16]\n",
      " [17 18 19]]\n"
     ]
    }
   ],
   "source": [
    "print('Matriz e:')\n",
    "e = np.array([[11, 12, 13], [14, 15, 16], [17, 18, 19]])\n",
    "print(e)"
   ]
  },
  {
   "cell_type": "code",
   "execution_count": 525,
   "metadata": {},
   "outputs": [
    {
     "name": "stdout",
     "output_type": "stream",
     "text": [
      "Concatenar colunas [d e]:\n",
      "[[ 1  2  3 11 12 13]\n",
      " [ 4  5  6 14 15 16]\n",
      " [ 7  8  9 17 18 19]]\n",
      "[[ 1  2  3 11 12 13]\n",
      " [ 4  5  6 14 15 16]\n",
      " [ 7  8  9 17 18 19]]\n",
      "[[ 1  2  3 11 12 13]\n",
      " [ 4  5  6 14 15 16]\n",
      " [ 7  8  9 17 18 19]]\n"
     ]
    }
   ],
   "source": [
    "print('Concatenar colunas [d e]:')\n",
    "print(np.concatenate((d, e), 1))\n",
    "print(np.hstack((d, e)))\n",
    "print(np.c_[d, e])"
   ]
  },
  {
   "cell_type": "code",
   "execution_count": 526,
   "metadata": {},
   "outputs": [
    {
     "name": "stdout",
     "output_type": "stream",
     "text": [
      "Concatenar linhas [d; e]:\n",
      "[[ 1  2  3]\n",
      " [ 4  5  6]\n",
      " [ 7  8  9]\n",
      " [11 12 13]\n",
      " [14 15 16]\n",
      " [17 18 19]]\n",
      "[[ 1  2  3]\n",
      " [ 4  5  6]\n",
      " [ 7  8  9]\n",
      " [11 12 13]\n",
      " [14 15 16]\n",
      " [17 18 19]]\n",
      "[[ 1  2  3]\n",
      " [ 4  5  6]\n",
      " [ 7  8  9]\n",
      " [11 12 13]\n",
      " [14 15 16]\n",
      " [17 18 19]]\n"
     ]
    }
   ],
   "source": [
    "print('Concatenar linhas [d; e]:')\n",
    "print(np.concatenate((d, e)))\n",
    "print(np.vstack((d, e)))\n",
    "print(np.r_[d, e])"
   ]
  },
  {
   "cell_type": "code",
   "execution_count": 527,
   "metadata": {},
   "outputs": [
    {
     "name": "stdout",
     "output_type": "stream",
     "text": [
      "Máximo elemento de a: 12\n",
      "Máximo elemento de cada coluna de a: [ 7  8  9 12]\n",
      "Máximo elemento de cada linha de a: [10 11 12]\n"
     ]
    }
   ],
   "source": [
    "print('Máximo elemento de a:', a.max())\n",
    "print('Máximo elemento de cada coluna de a:', a.max(0))\n",
    "print('Máximo elemento de cada linha de a:', a.max(1))"
   ]
  },
  {
   "cell_type": "code",
   "execution_count": 528,
   "metadata": {},
   "outputs": [
    {
     "name": "stdout",
     "output_type": "stream",
     "text": [
      "Matriz A:\n",
      "[[ 2  1 -1]\n",
      " [ 1  3  2]\n",
      " [ 3 -2  1]]\n"
     ]
    }
   ],
   "source": [
    "print('Matriz A:')\n",
    "A = np.array([[2, 1, -1], [1, 3, 2], [3, -2, 1]])\n",
    "print(A)"
   ]
  },
  {
   "cell_type": "code",
   "execution_count": 529,
   "metadata": {},
   "outputs": [
    {
     "name": "stdout",
     "output_type": "stream",
     "text": [
      "Vetor B:\n",
      "[ 3  4 -5]\n"
     ]
    }
   ],
   "source": [
    "print('Vetor B:')\n",
    "B = np.array([3, 4, -5]) #[:, np.newaxis]\n",
    "print(B)"
   ]
  },
  {
   "cell_type": "code",
   "execution_count": 530,
   "metadata": {},
   "outputs": [
    {
     "name": "stdout",
     "output_type": "stream",
     "text": [
      "Iversa de A:\n",
      "[[ 0.23333333  0.03333333  0.16666667]\n",
      " [ 0.16666667  0.16666667 -0.16666667]\n",
      " [-0.36666667  0.23333333  0.16666667]]\n"
     ]
    }
   ],
   "source": [
    "print('Iversa de A:')\n",
    "print(linalg.inv(A))"
   ]
  },
  {
   "cell_type": "code",
   "execution_count": 531,
   "metadata": {},
   "outputs": [
    {
     "name": "stdout",
     "output_type": "stream",
     "text": [
      "Resultado de A x = B (x = A\\B):\n",
      "[ 0.  2. -1.]\n"
     ]
    }
   ],
   "source": [
    "print('Resultado de A x = B (x = A\\B):')\n",
    "# B pode ser um vetor coluna ou linha. A resposta será dada na respectiva forma.\n",
    "x = linalg.solve(A, B)\n",
    "print(x)"
   ]
  },
  {
   "cell_type": "code",
   "execution_count": 532,
   "metadata": {},
   "outputs": [],
   "source": [
    "# print(Se A não for uma matriz quadrada, a solução de A x = B pode ser dada por:)\n",
    "# x = linalf.lstsq(A, B)\n",
    "# print(x)"
   ]
  },
  {
   "cell_type": "code",
   "execution_count": 533,
   "metadata": {},
   "outputs": [
    {
     "name": "stdout",
     "output_type": "stream",
     "text": [
      "Vetor com os valores únicos de A:\n",
      "[-2 -1  1  2  3]\n"
     ]
    }
   ],
   "source": [
    "print('Vetor com os valores únicos de A:')\n",
    "print(np.unique(A))"
   ]
  }
 ],
 "metadata": {
  "kernelspec": {
   "display_name": "Python 3",
   "language": "python",
   "name": "python3"
  },
  "language_info": {
   "codemirror_mode": {
    "name": "ipython",
    "version": 3
   },
   "file_extension": ".py",
   "mimetype": "text/x-python",
   "name": "python",
   "nbconvert_exporter": "python",
   "pygments_lexer": "ipython3",
   "version": "3.10.6"
  },
  "orig_nbformat": 4,
  "vscode": {
   "interpreter": {
    "hash": "bf2d88a0a1a0216eaf1c5e28c5b2b84861d6d0c3c56d476b83097a0f926c7591"
   }
  }
 },
 "nbformat": 4,
 "nbformat_minor": 2
}
