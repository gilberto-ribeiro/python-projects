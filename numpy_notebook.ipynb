{
 "cells": [
  {
   "attachments": {},
   "cell_type": "markdown",
   "metadata": {},
   "source": [
    "# Comparação NumPy e Octave\n",
    "[NumPy for MATLAB users](https://numpy.org/doc/stable/user/numpy-for-matlab-users.html)"
   ]
  },
  {
   "cell_type": "code",
   "execution_count": 19,
   "metadata": {},
   "outputs": [],
   "source": [
    "import numpy as np\n",
    "# from scipy import io, integrate, linalg, signal\n",
    "# from scipy.sparse.linalg import cg, eigs"
   ]
  },
  {
   "cell_type": "code",
   "execution_count": 22,
   "metadata": {},
   "outputs": [
    {
     "name": "stdout",
     "output_type": "stream",
     "text": [
      "[[ 1  2  3  7]\n",
      " [ 4  5  6  8]\n",
      " [ 7  8  9  9]\n",
      " [10 11 12 10]]\n",
      "Útimo elemento: 10 ou 10\n",
      "Elemento a(3,2): 8 ou 8\n"
     ]
    }
   ],
   "source": [
    "a = np.array([[1, 2, 3, 7], [4, 5, 6, 8], [7, 8, 9, 9], [10, 11, 12, 10]])\n",
    "print(a)\n",
    "print('Último elemento:', a[-1, -1], 'ou', a[-1][-1])\n",
    "print('Elemento a(3,2):', a[2, 1], 'ou', a[2][1])"
   ]
  },
  {
   "cell_type": "code",
   "execution_count": 21,
   "metadata": {},
   "outputs": [
    {
     "name": "stdout",
     "output_type": "stream",
     "text": [
      "Número de dimensões: 2\n",
      "Número de elementos: 16\n",
      "Dimensões: (4, 4)\n"
     ]
    }
   ],
   "source": [
    "print('Número de dimensões:', a.ndim)\n",
    "print('Número de elementos:', a.size)\n",
    "print('Dimensões:', a.shape)"
   ]
  }
 ],
 "metadata": {
  "kernelspec": {
   "display_name": "Python 3",
   "language": "python",
   "name": "python3"
  },
  "language_info": {
   "codemirror_mode": {
    "name": "ipython",
    "version": 3
   },
   "file_extension": ".py",
   "mimetype": "text/x-python",
   "name": "python",
   "nbconvert_exporter": "python",
   "pygments_lexer": "ipython3",
   "version": "3.10.6"
  },
  "orig_nbformat": 4,
  "vscode": {
   "interpreter": {
    "hash": "bf2d88a0a1a0216eaf1c5e28c5b2b84861d6d0c3c56d476b83097a0f926c7591"
   }
  }
 },
 "nbformat": 4,
 "nbformat_minor": 2
}
