{
 "cells": [
  {
   "cell_type": "code",
   "execution_count": 1671,
   "metadata": {},
   "outputs": [
    {
     "name": "stdout",
     "output_type": "stream",
     "text": [
      "[20, 51, 16, 13, 14, 51]\n"
     ]
    }
   ],
   "source": [
    "idades = [20, 51, 16, 13, 14, 51]\n",
    "print(idades)"
   ]
  },
  {
   "cell_type": "code",
   "execution_count": 1672,
   "metadata": {},
   "outputs": [],
   "source": [
    "def mostrar_e_adicionar(lista = []):\n",
    "    if lista is None:\n",
    "        lista = list()\n",
    "    print('Tamanho da lista:',len(lista))\n",
    "    lista.append(13)\n",
    "    print(lista)"
   ]
  },
  {
   "cell_type": "code",
   "execution_count": 1673,
   "metadata": {},
   "outputs": [
    {
     "name": "stdout",
     "output_type": "stream",
     "text": [
      "Tamanho da lista: 6\n",
      "[20, 51, 16, 13, 14, 51, 13]\n"
     ]
    }
   ],
   "source": [
    "mostrar_e_adicionar(idades)"
   ]
  },
  {
   "cell_type": "code",
   "execution_count": 1674,
   "metadata": {},
   "outputs": [
    {
     "name": "stdout",
     "output_type": "stream",
     "text": [
      "[40, 51, 21, 16, 13, 14, 51, 13, 20, 51]\n",
      "<class 'list'>\n",
      "Sim\n",
      "[40, 16, 14, 20]\n"
     ]
    }
   ],
   "source": [
    "x = idades[:2]\n",
    "idades[0] = 40\n",
    "idades.insert(2, 21)\n",
    "idades.extend(x)\n",
    "print(idades)\n",
    "print(type(x))\n",
    "h = 13\n",
    "par = [idade for idade in idades if idade%2 == 0]\n",
    "print('Sim' if h in idades else 'Não')\n",
    "print(par)"
   ]
  },
  {
   "attachments": {},
   "cell_type": "markdown",
   "metadata": {},
   "source": [
    "# Objetos próprios"
   ]
  },
  {
   "cell_type": "code",
   "execution_count": 1675,
   "metadata": {},
   "outputs": [],
   "source": [
    "class ContaCorrente:\n",
    "    def __init__(self, codigo):\n",
    "        self.codigo = codigo\n",
    "        self.saldo = 0\n",
    "\n",
    "    def deposita(self, valor):\n",
    "        self.saldo += valor\n",
    "\n",
    "    def __str__(self):\n",
    "        return '[>>> Código {} | Saldo {} <<<]'.format(self.codigo, self.saldo)\n",
    "    \n",
    "    def __eq__(self, other):\n",
    "        return self.saldo == other.saldo\n",
    "    \n",
    "    def __add__(self, other):\n",
    "        return self.saldo + other.saldo\n",
    "    \n",
    "    def __sub__(self, other):\n",
    "        return self.saldo - other.saldo"
   ]
  },
  {
   "cell_type": "code",
   "execution_count": 1676,
   "metadata": {},
   "outputs": [
    {
     "name": "stdout",
     "output_type": "stream",
     "text": [
      "[>>> Código 159 | Saldo 500 <<<]\n"
     ]
    }
   ],
   "source": [
    "conta_do_gui = ContaCorrente(159)\n",
    "conta_do_gui.deposita(500)\n",
    "print(conta_do_gui)"
   ]
  },
  {
   "cell_type": "code",
   "execution_count": 1677,
   "metadata": {},
   "outputs": [
    {
     "name": "stdout",
     "output_type": "stream",
     "text": [
      "[>>> Código 753 | Saldo 750 <<<]\n"
     ]
    }
   ],
   "source": [
    "conta_da_ana = ContaCorrente(753)\n",
    "conta_da_ana.deposita(750)\n",
    "print(conta_da_ana)"
   ]
  },
  {
   "cell_type": "code",
   "execution_count": 1678,
   "metadata": {},
   "outputs": [
    {
     "name": "stdout",
     "output_type": "stream",
     "text": [
      "[<__main__.ContaCorrente object at 0x0000025317C4A7D0>, <__main__.ContaCorrente object at 0x0000025317C4BA60>]\n"
     ]
    }
   ],
   "source": [
    "contas = [conta_do_gui, conta_da_ana]\n",
    "print(contas)"
   ]
  },
  {
   "cell_type": "code",
   "execution_count": 1679,
   "metadata": {},
   "outputs": [
    {
     "name": "stdout",
     "output_type": "stream",
     "text": [
      "2555904305104\n",
      "2555904305104\n",
      "2555904309856\n",
      "2555904309856\n"
     ]
    }
   ],
   "source": [
    "print(id(contas[0]))\n",
    "print(id(conta_do_gui))\n",
    "print(id(contas[1]))\n",
    "print(id(conta_da_ana))"
   ]
  },
  {
   "cell_type": "code",
   "execution_count": 1680,
   "metadata": {},
   "outputs": [
    {
     "name": "stdout",
     "output_type": "stream",
     "text": [
      "[>>> Código 159 | Saldo 500 <<<]\n",
      "[>>> Código 753 | Saldo 750 <<<]\n"
     ]
    }
   ],
   "source": [
    "for conta in contas:\n",
    "    print(conta)"
   ]
  },
  {
   "cell_type": "code",
   "execution_count": 1681,
   "metadata": {},
   "outputs": [
    {
     "name": "stdout",
     "output_type": "stream",
     "text": [
      "[>>> Código 159 | Saldo 510 <<<]\n",
      "[>>> Código 753 | Saldo 760 <<<]\n",
      "[>>> Código 159 | Saldo 520 <<<]\n",
      "[>>> Código 753 | Saldo 770 <<<]\n",
      "[>>> Código 159 | Saldo 530 <<<]\n",
      "[>>> Código 753 | Saldo 780 <<<]\n"
     ]
    }
   ],
   "source": [
    "n = 3\n",
    "for i in range(n):\n",
    "    for conta in contas:\n",
    "        conta.deposita(10)\n",
    "        print(conta)"
   ]
  },
  {
   "cell_type": "code",
   "execution_count": 1682,
   "metadata": {},
   "outputs": [
    {
     "name": "stdout",
     "output_type": "stream",
     "text": [
      "Saldos diferentes\n"
     ]
    }
   ],
   "source": [
    "print('Saldos iguais' if conta_do_gui == conta_da_ana else 'Saldos diferentes')"
   ]
  },
  {
   "cell_type": "code",
   "execution_count": 1683,
   "metadata": {},
   "outputs": [
    {
     "name": "stdout",
     "output_type": "stream",
     "text": [
      "Saldos diferentes\n"
     ]
    }
   ],
   "source": [
    "# conta_do_gui.deposita(250)\n",
    "print('Saldos iguais' if conta_do_gui == conta_da_ana else 'Saldos diferentes')"
   ]
  },
  {
   "cell_type": "code",
   "execution_count": 1684,
   "metadata": {},
   "outputs": [
    {
     "name": "stdout",
     "output_type": "stream",
     "text": [
      "-250\n"
     ]
    }
   ],
   "source": [
    "a = conta_do_gui - conta_da_ana\n",
    "print(a)"
   ]
  },
  {
   "cell_type": "code",
   "execution_count": 1685,
   "metadata": {},
   "outputs": [],
   "source": [
    "from abc import ABCMeta, abstractmethod\n",
    "from functools import total_ordering\n",
    "\n",
    "@total_ordering\n",
    "class Conta(metaclass = ABCMeta):\n",
    "    def __init__(self, codigo):\n",
    "        self._codigo = codigo\n",
    "        self._saldo = 0\n",
    "\n",
    "    @property\n",
    "    def saldo(self):\n",
    "        return self._saldo\n",
    "\n",
    "    def deposita(self, valor):\n",
    "        self._saldo += valor\n",
    "\n",
    "    def saque(self, valor):\n",
    "        self._saldo -= valor\n",
    "\n",
    "    def transfere(self, other, valor):\n",
    "        self.saque(valor)\n",
    "        other.deposita(valor)\n",
    "\n",
    "    @abstractmethod\n",
    "    def passa_o_mes(self):\n",
    "        pass\n",
    "\n",
    "    def __str__(self):\n",
    "        return '[Conta: {} | Saldo: {}]'.format(self._codigo, self._saldo)\n",
    "    \n",
    "\n",
    "    def __eq__(self, outro):\n",
    "        return self._saldo == outro._saldo\n",
    "\n",
    "    def __lt__(self, outro):\n",
    "        if self.__eq__(outro):\n",
    "            return self._codigo < outro._codigo\n",
    "        return self._saldo < outro._saldo\n",
    "    \n",
    "class ContaCorrente(Conta):\n",
    "    def passa_o_mes(self):\n",
    "        self._saldo -= 2\n",
    "\n",
    "class ContaPoupanca(Conta):\n",
    "    def passa_o_mes(self):\n",
    "        self._saldo *= 1.01\n",
    "        self._saldo -= 3\n",
    "\n",
    "class ContaInvestimento(Conta):\n",
    "    def passa_o_mes(self):\n",
    "        self._saldo *= 1.05\n",
    "        self._saldo -= 5"
   ]
  },
  {
   "cell_type": "code",
   "execution_count": 1686,
   "metadata": {},
   "outputs": [
    {
     "name": "stdout",
     "output_type": "stream",
     "text": [
      "[Conta: 15 | Saldo: 2000]\n"
     ]
    }
   ],
   "source": [
    "c15 = ContaInvestimento(15)\n",
    "c15.deposita(2000)\n",
    "print(c15)"
   ]
  },
  {
   "cell_type": "code",
   "execution_count": 1687,
   "metadata": {},
   "outputs": [
    {
     "name": "stdout",
     "output_type": "stream",
     "text": [
      "[Conta: 15 | Saldo: 2000]\n",
      "[Conta: 16 | Saldo: 1000]\n",
      "[Conta: 17 | Saldo: 2000]\n",
      "[Conta: 18 | Saldo: 100]\n"
     ]
    }
   ],
   "source": [
    "c16 = ContaCorrente(16)\n",
    "c17 = ContaPoupanca(17)\n",
    "c18 = ContaPoupanca(18)\n",
    "c16.deposita(1000)\n",
    "c17.deposita(2000)\n",
    "c18.deposita(100)\n",
    "contas = [c15, c16, c17, c18]\n",
    "for conta in contas:\n",
    "    print(conta)"
   ]
  },
  {
   "cell_type": "code",
   "execution_count": 1688,
   "metadata": {},
   "outputs": [],
   "source": [
    "def novo_mes(contas):\n",
    "    for conta in contas:\n",
    "        conta.passa_o_mes()\n",
    "\n",
    "def novo_ano(contas):\n",
    "    for i in range(12):\n",
    "        novo_mes(contas)\n",
    "\n",
    "def extrato(contas):\n",
    "    for conta in contas:\n",
    "        print(conta)"
   ]
  },
  {
   "cell_type": "code",
   "execution_count": 1689,
   "metadata": {},
   "outputs": [
    {
     "name": "stdout",
     "output_type": "stream",
     "text": [
      "[Conta: 15 | Saldo: 2095.0]\n",
      "[Conta: 16 | Saldo: 998]\n",
      "[Conta: 17 | Saldo: 2017.0]\n",
      "[Conta: 18 | Saldo: 98.0]\n"
     ]
    }
   ],
   "source": [
    "\n",
    "novo_mes(contas)\n",
    "extrato(contas)\n"
   ]
  },
  {
   "cell_type": "code",
   "execution_count": 1690,
   "metadata": {},
   "outputs": [
    {
     "name": "stdout",
     "output_type": "stream",
     "text": [
      "[Conta: 15 | Saldo: 6534.074387708841]\n",
      "[Conta: 16 | Saldo: 950]\n",
      "[Conta: 17 | Saldo: 2480.1343915292982]\n",
      "[Conta: 18 | Saldo: 2582.982898060382]\n"
     ]
    }
   ],
   "source": [
    "c18.deposita(2000)\n",
    "novo_ano(contas)\n",
    "novo_ano(contas)\n",
    "extrato(contas)"
   ]
  },
  {
   "cell_type": "code",
   "execution_count": 1691,
   "metadata": {},
   "outputs": [
    {
     "name": "stdout",
     "output_type": "stream",
     "text": [
      "[Conta: 15 | Saldo: 6534.074387708841]\n",
      "[Conta: 16 | Saldo: 950]\n",
      "[Conta: 17 | Saldo: 2480.1343915292982]\n",
      "[Conta: 18 | Saldo: 1582.982898060382]\n",
      "[Conta: 19 | Saldo: 1000]\n"
     ]
    }
   ],
   "source": [
    "contas.append(ContaCorrente(19))\n",
    "c18.transfere(contas[-1], 1000)\n",
    "extrato(contas)"
   ]
  },
  {
   "cell_type": "code",
   "execution_count": 1692,
   "metadata": {},
   "outputs": [
    {
     "name": "stdout",
     "output_type": "stream",
     "text": [
      "2556167363008 2556167356672\n"
     ]
    }
   ],
   "source": [
    "print(id(c18),id(contas[2]))\n",
    "c19 = contas[-1]"
   ]
  },
  {
   "cell_type": "code",
   "execution_count": 1693,
   "metadata": {},
   "outputs": [],
   "source": [
    "class ContaSalario():\n",
    "    def __init__(self, codigo):\n",
    "        self._codigo = codigo\n",
    "        self._saldo = 0\n",
    "\n",
    "    def deposita(self, valor):\n",
    "        self._saldo += 2 * valor\n",
    "\n",
    "    def __str__(self):\n",
    "        return '[Conta: {} | Saldo: {}]'.format(self._codigo, self._saldo)\n",
    "    \n",
    "    def __eq__(self, outro):\n",
    "        if type(outro) != ContaSalario:\n",
    "            return False\n",
    "        # if not isinstance(outro, ContaSalario):\n",
    "        #     return False\n",
    "        return self._codigo == outro._codigo and self._saldo == outro._saldo\n",
    "    \n",
    "class ContaMultiploSalario(ContaSalario):\n",
    "    pass"
   ]
  },
  {
   "cell_type": "code",
   "execution_count": 1694,
   "metadata": {},
   "outputs": [
    {
     "name": "stdout",
     "output_type": "stream",
     "text": [
      "True\n",
      "[Conta: 20 | Saldo: 400]\n",
      "[Conta: 20 | Saldo: 400]\n"
     ]
    }
   ],
   "source": [
    "c20 = ContaSalario(20)\n",
    "c20.deposita(200)\n",
    "c21 = ContaMultiploSalario(20)\n",
    "c21.deposita(200)\n",
    "print(c20 == c21)\n",
    "contas2 = [c20, c21]\n",
    "extrato(contas2)"
   ]
  },
  {
   "cell_type": "code",
   "execution_count": 1695,
   "metadata": {},
   "outputs": [
    {
     "name": "stdout",
     "output_type": "stream",
     "text": [
      "True\n"
     ]
    }
   ],
   "source": [
    "print(isinstance(c20, ContaSalario))"
   ]
  },
  {
   "attachments": {},
   "cell_type": "markdown",
   "metadata": {},
   "source": [
    "# Array e Numpy"
   ]
  },
  {
   "cell_type": "code",
   "execution_count": 1696,
   "metadata": {},
   "outputs": [],
   "source": [
    "import array as arr\n",
    "import numpy as np"
   ]
  },
  {
   "cell_type": "code",
   "execution_count": 1697,
   "metadata": {},
   "outputs": [],
   "source": [
    "a = np.array([5, 5.6, 8])"
   ]
  },
  {
   "cell_type": "code",
   "execution_count": 1698,
   "metadata": {},
   "outputs": [
    {
     "name": "stdout",
     "output_type": "stream",
     "text": [
      "[ 8.   8.6 11. ]\n"
     ]
    }
   ],
   "source": [
    "b = a + 3\n",
    "print(b)"
   ]
  },
  {
   "attachments": {},
   "cell_type": "markdown",
   "metadata": {},
   "source": [
    "# Range e enumerated"
   ]
  },
  {
   "cell_type": "code",
   "execution_count": 1699,
   "metadata": {},
   "outputs": [
    {
     "name": "stdout",
     "output_type": "stream",
     "text": [
      "0 12\n",
      "1 51\n",
      "2 53\n",
      "3 29\n",
      "4 71\n",
      "5 32\n",
      "6 81\n",
      "7 90\n"
     ]
    }
   ],
   "source": [
    "idades = [12, 51, 53, 29, 71, 32, 81, 90]\n",
    "for i in range(len(idades)):\n",
    "    print(i, idades[i])"
   ]
  },
  {
   "cell_type": "code",
   "execution_count": 1700,
   "metadata": {},
   "outputs": [
    {
     "name": "stdout",
     "output_type": "stream",
     "text": [
      "0 12\n",
      "1 51\n",
      "2 53\n",
      "3 29\n",
      "4 71\n",
      "5 32\n",
      "6 81\n",
      "7 90\n"
     ]
    }
   ],
   "source": [
    "for i, idade in enumerate(idades):\n",
    "    print(i, idade)"
   ]
  },
  {
   "cell_type": "code",
   "execution_count": 1701,
   "metadata": {},
   "outputs": [
    {
     "name": "stdout",
     "output_type": "stream",
     "text": [
      "(0, 12)\n",
      "(1, 51)\n",
      "(2, 53)\n",
      "(3, 29)\n",
      "(4, 71)\n",
      "(5, 32)\n",
      "(6, 81)\n",
      "(7, 90)\n"
     ]
    }
   ],
   "source": [
    "for valor in enumerate(idades):\n",
    "    print(valor)"
   ]
  },
  {
   "cell_type": "code",
   "execution_count": 1702,
   "metadata": {},
   "outputs": [
    {
     "name": "stdout",
     "output_type": "stream",
     "text": [
      "[Conta: 16 | Saldo: 950]\n",
      "[Conta: 19 | Saldo: 1000]\n",
      "[Conta: 18 | Saldo: 1582.982898060382]\n",
      "[Conta: 17 | Saldo: 2480.1343915292982]\n",
      "[Conta: 15 | Saldo: 6534.074387708841]\n"
     ]
    }
   ],
   "source": [
    "def extrai_saldo(i):\n",
    "    return i.saldo\n",
    "\n",
    "for conta in sorted(contas, key = extrai_saldo):\n",
    "    print(conta)"
   ]
  },
  {
   "cell_type": "code",
   "execution_count": 1703,
   "metadata": {},
   "outputs": [
    {
     "name": "stdout",
     "output_type": "stream",
     "text": [
      "[Conta: 19 | Saldo: 1000]\n",
      "[Conta: 18 | Saldo: 1582.982898060382]\n",
      "[Conta: 17 | Saldo: 2480.1343915292982]\n",
      "[Conta: 16 | Saldo: 950]\n",
      "[Conta: 15 | Saldo: 6534.074387708841]\n"
     ]
    }
   ],
   "source": [
    "from operator import attrgetter\n",
    "\n",
    "for conta in sorted(contas, key = attrgetter('_codigo'), reverse = True):\n",
    "    print(conta)"
   ]
  },
  {
   "cell_type": "code",
   "execution_count": 1704,
   "metadata": {},
   "outputs": [
    {
     "name": "stdout",
     "output_type": "stream",
     "text": [
      "0 [Conta: 16 | Saldo: 950] 950\n",
      "1 [Conta: 19 | Saldo: 1000] 1000\n",
      "2 [Conta: 18 | Saldo: 1582.982898060382] 1582.982898060382\n",
      "3 [Conta: 17 | Saldo: 2480.1343915292982] 2480.1343915292982\n",
      "4 [Conta: 15 | Saldo: 6534.074387708841] 6534.074387708841\n"
     ]
    }
   ],
   "source": [
    "for i, conta in enumerate(sorted(contas)):\n",
    "    print(i, conta, conta.saldo)"
   ]
  },
  {
   "cell_type": "code",
   "execution_count": 1705,
   "metadata": {},
   "outputs": [],
   "source": [
    "c1 = ContaCorrente(159)\n",
    "c2 = ContaInvestimento(56)\n",
    "c3 = ContaPoupanca(456)\n",
    "c1.deposita(200)\n",
    "c2.deposita(200)\n",
    "c3.deposita(100)\n",
    "contas3 = [c1, c2, c3]"
   ]
  },
  {
   "cell_type": "code",
   "execution_count": 1706,
   "metadata": {},
   "outputs": [
    {
     "data": {
      "text/plain": [
       "False"
      ]
     },
     "execution_count": 1706,
     "metadata": {},
     "output_type": "execute_result"
    }
   ],
   "source": [
    "c1 > c2"
   ]
  }
 ],
 "metadata": {
  "kernelspec": {
   "display_name": "Python 3",
   "language": "python",
   "name": "python3"
  },
  "language_info": {
   "codemirror_mode": {
    "name": "ipython",
    "version": 3
   },
   "file_extension": ".py",
   "mimetype": "text/x-python",
   "name": "python",
   "nbconvert_exporter": "python",
   "pygments_lexer": "ipython3",
   "version": "3.10.6"
  },
  "orig_nbformat": 4,
  "vscode": {
   "interpreter": {
    "hash": "bf2d88a0a1a0216eaf1c5e28c5b2b84861d6d0c3c56d476b83097a0f926c7591"
   }
  }
 },
 "nbformat": 4,
 "nbformat_minor": 2
}
