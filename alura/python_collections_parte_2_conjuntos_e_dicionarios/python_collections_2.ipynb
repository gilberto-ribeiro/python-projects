{
 "cells": [
  {
   "attachments": {},
   "cell_type": "markdown",
   "metadata": {},
   "source": [
    "# Conjuntos"
   ]
  },
  {
   "cell_type": "code",
   "execution_count": 416,
   "metadata": {},
   "outputs": [],
   "source": [
    "usuarios_data_science = [15, 23, 43, 56]\n",
    "usuarios_machine_learning = [13, 23, 56, 42]"
   ]
  },
  {
   "cell_type": "code",
   "execution_count": 417,
   "metadata": {},
   "outputs": [
    {
     "name": "stdout",
     "output_type": "stream",
     "text": [
      "[15, 23, 43, 56, 13, 23, 56, 42]\n"
     ]
    }
   ],
   "source": [
    "assistiram = usuarios_data_science.copy()\n",
    "assistiram.extend(usuarios_machine_learning)\n",
    "print(assistiram)"
   ]
  },
  {
   "cell_type": "code",
   "execution_count": 418,
   "metadata": {},
   "outputs": [
    {
     "name": "stdout",
     "output_type": "stream",
     "text": [
      "{42, 43, 13, 15, 23, 56}\n",
      "<class 'set'>\n"
     ]
    }
   ],
   "source": [
    "uds = set(usuarios_data_science)\n",
    "uml = set(usuarios_machine_learning)\n",
    "a_uniao = uds | uml\n",
    "print(a_uniao)\n",
    "print(type(a_uniao))"
   ]
  },
  {
   "cell_type": "code",
   "execution_count": 419,
   "metadata": {},
   "outputs": [
    {
     "name": "stdout",
     "output_type": "stream",
     "text": [
      "42\n",
      "43\n",
      "13\n",
      "15\n",
      "23\n",
      "56\n"
     ]
    }
   ],
   "source": [
    "for u in a_uniao:\n",
    "    print(u)"
   ]
  },
  {
   "cell_type": "code",
   "execution_count": 420,
   "metadata": {},
   "outputs": [
    {
     "name": "stdout",
     "output_type": "stream",
     "text": [
      "{56, 23}\n",
      "<class 'set'>\n"
     ]
    }
   ],
   "source": [
    "a_inter = uds & uml\n",
    "print(a_inter)\n",
    "print(type(a_inter))"
   ]
  },
  {
   "cell_type": "code",
   "execution_count": 421,
   "metadata": {},
   "outputs": [],
   "source": [
    "def uniao(lista1, lista2):\n",
    "    uniao = lista1\n",
    "    for i in lista2:\n",
    "        if i not in uniao:\n",
    "            uniao.append(i)\n",
    "    return uniao\n",
    "\n",
    "def interseccao(lista1, lista2):\n",
    "    interseccao = list()\n",
    "    for i in lista1:\n",
    "        for j in lista2:\n",
    "            if i == j:\n",
    "                interseccao.append(j)\n",
    "    return interseccao"
   ]
  },
  {
   "cell_type": "code",
   "execution_count": 422,
   "metadata": {},
   "outputs": [
    {
     "name": "stdout",
     "output_type": "stream",
     "text": [
      "[15, 23, 43, 56, 13, 42]\n"
     ]
    }
   ],
   "source": [
    "b = uniao(usuarios_data_science, usuarios_machine_learning)\n",
    "print(b)"
   ]
  },
  {
   "cell_type": "code",
   "execution_count": 423,
   "metadata": {},
   "outputs": [
    {
     "name": "stdout",
     "output_type": "stream",
     "text": [
      "[23, 56, 13, 42]\n"
     ]
    }
   ],
   "source": [
    "c = interseccao(usuarios_data_science, usuarios_machine_learning)\n",
    "print(c)"
   ]
  },
  {
   "cell_type": "code",
   "execution_count": 424,
   "metadata": {},
   "outputs": [
    {
     "name": "stdout",
     "output_type": "stream",
     "text": [
      "{43, 15}\n"
     ]
    }
   ],
   "source": [
    "ds_ml = uds - uml\n",
    "print(ds_ml)"
   ]
  },
  {
   "cell_type": "code",
   "execution_count": 425,
   "metadata": {},
   "outputs": [
    {
     "name": "stdout",
     "output_type": "stream",
     "text": [
      "{42, 13}\n"
     ]
    }
   ],
   "source": [
    "ml_ds = uml - uds\n",
    "print(ml_ds)"
   ]
  },
  {
   "cell_type": "code",
   "execution_count": 426,
   "metadata": {},
   "outputs": [
    {
     "name": "stdout",
     "output_type": "stream",
     "text": [
      "{42, 43, 13, 15}\n"
     ]
    }
   ],
   "source": [
    "ou_excl = uml ^ uds\n",
    "print(ou_excl)"
   ]
  },
  {
   "cell_type": "code",
   "execution_count": 427,
   "metadata": {},
   "outputs": [
    {
     "name": "stdout",
     "output_type": "stream",
     "text": [
      "{42, 43, 13, 15}\n",
      "{42, 43, 13, 15}\n"
     ]
    }
   ],
   "source": [
    "print(((uds | uml) - (uds & uml)))\n",
    "print((uds ^ uml))"
   ]
  },
  {
   "attachments": {},
   "cell_type": "markdown",
   "metadata": {},
   "source": [
    "Resumo:\n",
    "- '|' : União (ou inclusivo)\n",
    "- '&' : Intersecção\n",
    "- '-' : Subtração\n",
    "- '^' : União exclusiva (ou exclusivo): União - intersecção"
   ]
  },
  {
   "cell_type": "code",
   "execution_count": 428,
   "metadata": {},
   "outputs": [
    {
     "name": "stdout",
     "output_type": "stream",
     "text": [
      "{35, 39, 12, 13, 49, 19, 51, 52, 24, 58, 63}\n",
      "11\n"
     ]
    }
   ],
   "source": [
    "usuarios = {12, 13 ,19, 24, 35, 39, 49, 51, 52, 58, 63}\n",
    "print(usuarios)\n",
    "print(len(usuarios))"
   ]
  },
  {
   "cell_type": "code",
   "execution_count": 429,
   "metadata": {},
   "outputs": [
    {
     "name": "stdout",
     "output_type": "stream",
     "text": [
      "{35, 39, 12, 13, 49, 19, 51, 52, 24, 58, 63}\n",
      "11\n"
     ]
    }
   ],
   "source": [
    "usuarios.add(19)\n",
    "print(usuarios)\n",
    "print(len(usuarios))"
   ]
  },
  {
   "cell_type": "code",
   "execution_count": 430,
   "metadata": {},
   "outputs": [
    {
     "name": "stdout",
     "output_type": "stream",
     "text": [
      "{35, 39, 12, 13, 49, 17, 19, 51, 52, 24, 58, 63}\n",
      "12\n"
     ]
    }
   ],
   "source": [
    "usuarios.add(17)\n",
    "print(usuarios)\n",
    "print(len(usuarios))"
   ]
  },
  {
   "cell_type": "code",
   "execution_count": 431,
   "metadata": {},
   "outputs": [
    {
     "name": "stdout",
     "output_type": "stream",
     "text": [
      "frozenset({35, 39, 12, 13, 49, 17, 19, 51, 52, 24, 58, 63}) <class 'frozenset'>\n",
      "35\n",
      "39\n",
      "12\n",
      "13\n",
      "49\n",
      "17\n",
      "19\n",
      "51\n",
      "52\n",
      "24\n",
      "58\n",
      "63\n"
     ]
    }
   ],
   "source": [
    "usuarios = frozenset(usuarios)\n",
    "print(usuarios, type(usuarios))\n",
    "# usuarios.add(14)\n",
    "# print(usuarios, len(usuarios))\n",
    "for i in usuarios:\n",
    "    print(i)"
   ]
  },
  {
   "cell_type": "code",
   "execution_count": 432,
   "metadata": {},
   "outputs": [
    {
     "name": "stdout",
     "output_type": "stream",
     "text": [
      "['Oi', 'meu', 'nome', 'e', 'Gilberto', 'e', 'eu', 'gosto', 'de', 'cachorro', 'e', 'eu', 'tenho', 'um', 'cachorro', 'que', 'o', 'nome', 'e', 'Fred']\n"
     ]
    }
   ],
   "source": [
    "frase = 'Oi meu nome e Gilberto e eu gosto de cachorro e eu tenho um cachorro que o nome e Fred'\n",
    "palavras = frase.split(' ')\n",
    "print(palavras)"
   ]
  },
  {
   "cell_type": "code",
   "execution_count": 433,
   "metadata": {},
   "outputs": [
    {
     "name": "stdout",
     "output_type": "stream",
     "text": [
      "['Fred', 'Gilberto', 'Oi', 'cachorro', 'de', 'e', 'eu', 'gosto', 'meu', 'nome', 'o', 'que', 'tenho', 'um']\n"
     ]
    }
   ],
   "source": [
    "palavras2 = set(palavras)\n",
    "print(sorted(list(palavras2)))"
   ]
  },
  {
   "attachments": {},
   "cell_type": "markdown",
   "metadata": {},
   "source": [
    "# Dicionários (Mapping)"
   ]
  },
  {
   "cell_type": "code",
   "execution_count": 434,
   "metadata": {},
   "outputs": [
    {
     "name": "stdout",
     "output_type": "stream",
     "text": [
      "{'eu': 2, 'Fred': 1, 'e': 4, 'meu': 1, 'cachorro': 2, 'nome': 2, 'o': 1, 'Gilberto': 1, 'gosto': 1, 'Oi': 1, 'um': 1, 'que': 1, 'tenho': 1, 'de': 1}\n"
     ]
    }
   ],
   "source": [
    "conta_palavra = dict()\n",
    "for chave in palavras2:\n",
    "    conta_palavra[chave] = 0\n",
    "    for i in palavras:\n",
    "        if i == chave:\n",
    "            conta_palavra[chave] += 1\n",
    "print(conta_palavra)\n"
   ]
  },
  {
   "cell_type": "code",
   "execution_count": 435,
   "metadata": {},
   "outputs": [
    {
     "name": "stdout",
     "output_type": "stream",
     "text": [
      "eu 2\n",
      "Fred 1\n",
      "e 4\n",
      "meu 1\n",
      "cachorro 2\n",
      "nome 2\n",
      "o 1\n",
      "Gilberto 1\n",
      "gosto 1\n",
      "Oi 1\n",
      "um 1\n",
      "que 1\n",
      "tenho 1\n",
      "de 1\n"
     ]
    }
   ],
   "source": [
    "for k, v in conta_palavra.items():\n",
    "    print(k, v)"
   ]
  },
  {
   "cell_type": "code",
   "execution_count": 436,
   "metadata": {},
   "outputs": [
    {
     "name": "stdout",
     "output_type": "stream",
     "text": [
      "{'Gilberto': 10, 'Tek': 25, 'Jao': 15, 'Zezel': 13, 'Cotel': 9, 'Ailton': 22}\n"
     ]
    }
   ],
   "source": [
    "saldos = dict(Gilberto = 10, Tek = 25, Jao = 15, Zezel = 13, Cotel = 9, Ailton = 22)\n",
    "print(saldos)"
   ]
  },
  {
   "cell_type": "code",
   "execution_count": 437,
   "metadata": {},
   "outputs": [
    {
     "name": "stdout",
     "output_type": "stream",
     "text": [
      "5\n"
     ]
    }
   ],
   "source": [
    "print(saldos.get('Pedro', 5))"
   ]
  },
  {
   "cell_type": "code",
   "execution_count": 438,
   "metadata": {},
   "outputs": [
    {
     "name": "stdout",
     "output_type": "stream",
     "text": [
      "1\n"
     ]
    }
   ],
   "source": [
    "saldos['Pedro'] = saldos.get('Pedro',0) + 1\n",
    "print(saldos['Pedro'])"
   ]
  },
  {
   "cell_type": "code",
   "execution_count": 439,
   "metadata": {},
   "outputs": [
    {
     "name": "stdout",
     "output_type": "stream",
     "text": [
      "1\n"
     ]
    }
   ],
   "source": [
    "print(saldos.get('Pedro', 5))"
   ]
  },
  {
   "cell_type": "code",
   "execution_count": 440,
   "metadata": {},
   "outputs": [
    {
     "name": "stdout",
     "output_type": "stream",
     "text": [
      "{'Tek': 25, 'Jao': 15, 'Zezel': 13, 'Cotel': 9, 'Ailton': 22, 'Pedro': 1}\n"
     ]
    }
   ],
   "source": [
    "del saldos['Gilberto']\n",
    "print(saldos)"
   ]
  },
  {
   "cell_type": "code",
   "execution_count": 441,
   "metadata": {},
   "outputs": [
    {
     "name": "stdout",
     "output_type": "stream",
     "text": [
      "Tek\n",
      "Jao\n",
      "Zezel\n",
      "Cotel\n",
      "Ailton\n",
      "Pedro\n"
     ]
    }
   ],
   "source": [
    "for i in saldos:\n",
    "    print(i)"
   ]
  },
  {
   "cell_type": "code",
   "execution_count": 442,
   "metadata": {},
   "outputs": [
    {
     "name": "stdout",
     "output_type": "stream",
     "text": [
      "Tek\n",
      "Jao\n",
      "Zezel\n",
      "Cotel\n",
      "Ailton\n",
      "Pedro\n"
     ]
    }
   ],
   "source": [
    "for i in saldos.keys():\n",
    "    print(i)"
   ]
  },
  {
   "cell_type": "code",
   "execution_count": 443,
   "metadata": {},
   "outputs": [
    {
     "name": "stdout",
     "output_type": "stream",
     "text": [
      "25\n",
      "15\n",
      "13\n",
      "9\n",
      "22\n",
      "1\n"
     ]
    }
   ],
   "source": [
    "for i in saldos.values():\n",
    "    print(i)"
   ]
  },
  {
   "cell_type": "code",
   "execution_count": 444,
   "metadata": {},
   "outputs": [
    {
     "name": "stdout",
     "output_type": "stream",
     "text": [
      "('Tek', 25)\n",
      "('Jao', 15)\n",
      "('Zezel', 13)\n",
      "('Cotel', 9)\n",
      "('Ailton', 22)\n",
      "('Pedro', 1)\n"
     ]
    }
   ],
   "source": [
    "for i in saldos.items():\n",
    "    print(i)"
   ]
  },
  {
   "cell_type": "code",
   "execution_count": 445,
   "metadata": {},
   "outputs": [
    {
     "name": "stdout",
     "output_type": "stream",
     "text": [
      "Tek 25\n",
      "Jao 15\n",
      "Zezel 13\n",
      "Cotel 9\n",
      "Ailton 22\n",
      "Pedro 1\n"
     ]
    }
   ],
   "source": [
    "for k, v in saldos.items():\n",
    "    print(k, v)"
   ]
  },
  {
   "cell_type": "code",
   "execution_count": 446,
   "metadata": {},
   "outputs": [
    {
     "name": "stdout",
     "output_type": "stream",
     "text": [
      "[(25, 'Tek'), (15, 'Jao'), (13, 'Zezel'), (9, 'Cotel'), (22, 'Ailton'), (1, 'Pedro')]\n"
     ]
    }
   ],
   "source": [
    "sodlas = [(v, k) for k, v in saldos.items()]\n",
    "print(sodlas)"
   ]
  },
  {
   "cell_type": "code",
   "execution_count": 447,
   "metadata": {},
   "outputs": [
    {
     "name": "stdout",
     "output_type": "stream",
     "text": [
      "{25: 'Tek', 15: 'Jao', 13: 'Zezel', 9: 'Cotel', 22: 'Ailton', 1: 'Pedro'}\n"
     ]
    }
   ],
   "source": [
    "d = dict()\n",
    "for k, v in saldos.items():\n",
    "    d[v] = k\n",
    "print(d)"
   ]
  },
  {
   "cell_type": "code",
   "execution_count": 448,
   "metadata": {},
   "outputs": [
    {
     "name": "stdout",
     "output_type": "stream",
     "text": [
      "Não\n"
     ]
    }
   ],
   "source": [
    "print('Sim' if 'Gilberto' in saldos else 'Não')"
   ]
  },
  {
   "cell_type": "code",
   "execution_count": 449,
   "metadata": {},
   "outputs": [
    {
     "name": "stdout",
     "output_type": "stream",
     "text": [
      "Sim\n"
     ]
    }
   ],
   "source": [
    "print('Sim' if 'Pedro' in saldos else 'Não')"
   ]
  },
  {
   "cell_type": "code",
   "execution_count": 450,
   "metadata": {},
   "outputs": [],
   "source": [
    "def contagem_de_palavras(texto, r=True):\n",
    "    texto = texto.lower().strip().split(' ')\n",
    "    palavras = dict()\n",
    "    for palavra in texto:\n",
    "        palavras[palavra] = palavras.get(palavra, 0) + 1\n",
    "    palavras_ordenadas = sorted([(v, k) for k, v in palavras.items()], reverse=r)\n",
    "    palavras.clear()\n",
    "    for v, k in palavras_ordenadas:\n",
    "        palavras[k] = v\n",
    "    return palavras"
   ]
  },
  {
   "cell_type": "code",
   "execution_count": 451,
   "metadata": {},
   "outputs": [
    {
     "name": "stdout",
     "output_type": "stream",
     "text": [
      "{'e': 4, 'nome': 2, 'eu': 2, 'cachorro': 2, 'um': 1, 'tenho': 1, 'que': 1, 'oi': 1, 'o': 1, 'meu': 1, 'gosto': 1, 'gilberto': 1, 'fred': 1, 'de': 1}\n"
     ]
    }
   ],
   "source": [
    "print(contagem_de_palavras(frase))"
   ]
  },
  {
   "cell_type": "code",
   "execution_count": 452,
   "metadata": {},
   "outputs": [
    {
     "name": "stdout",
     "output_type": "stream",
     "text": [
      "defaultdict(<class 'int'>, {'oi': 1, 'meu': 1, 'nome': 2, 'e': 4, 'gilberto': 1, 'eu': 2, 'gosto': 1, 'de': 1, 'cachorro': 2, 'tenho': 1, 'um': 1, 'que': 1, 'o': 1, 'fred': 1})\n"
     ]
    }
   ],
   "source": [
    "from collections import defaultdict\n",
    "\n",
    "aparicoes = defaultdict(int)\n",
    "frase_list = frase.lower().strip().split(' ')\n",
    "for palavra in frase_list:\n",
    "    aparicoes[palavra] += 1\n",
    "print(aparicoes)"
   ]
  },
  {
   "cell_type": "code",
   "execution_count": 453,
   "metadata": {},
   "outputs": [
    {
     "name": "stdout",
     "output_type": "stream",
     "text": [
      "('oi', 1)\n",
      "('meu', 1)\n",
      "('nome', 2)\n",
      "('e', 4)\n",
      "('gilberto', 1)\n",
      "('eu', 2)\n",
      "('gosto', 1)\n",
      "('de', 1)\n",
      "('cachorro', 2)\n",
      "('tenho', 1)\n",
      "('um', 1)\n",
      "('que', 1)\n",
      "('o', 1)\n",
      "('fred', 1)\n"
     ]
    }
   ],
   "source": [
    "for i in aparicoes.items():\n",
    "    print(i)"
   ]
  },
  {
   "cell_type": "code",
   "execution_count": 454,
   "metadata": {},
   "outputs": [
    {
     "name": "stdout",
     "output_type": "stream",
     "text": [
      "Counter({'e': 4, 'nome': 2, 'eu': 2, 'cachorro': 2, 'oi': 1, 'meu': 1, 'gilberto': 1, 'gosto': 1, 'de': 1, 'tenho': 1, 'um': 1, 'que': 1, 'o': 1, 'fred': 1})\n"
     ]
    }
   ],
   "source": [
    "from collections import Counter\n",
    "\n",
    "aparicoes = Counter(frase_list)\n",
    "print(aparicoes)"
   ]
  },
  {
   "cell_type": "code",
   "execution_count": 455,
   "metadata": {},
   "outputs": [
    {
     "name": "stdout",
     "output_type": "stream",
     "text": [
      "{'e': 4, 'nome': 2, 'eu': 2, 'cachorro': 2, 'um': 1, 'tenho': 1, 'que': 1, 'oi': 1, 'o': 1, 'meu': 1, 'gosto': 1, 'gilberto': 1, 'fred': 1, 'de': 1}\n"
     ]
    }
   ],
   "source": [
    "aparicoes2 = contagem_de_palavras(frase)\n",
    "print(aparicoes2)"
   ]
  },
  {
   "cell_type": "code",
   "execution_count": 456,
   "metadata": {},
   "outputs": [],
   "source": [
    "class Conta:\n",
    "    def __init__(self):\n",
    "        print('Criando a conta: ',self)"
   ]
  },
  {
   "cell_type": "code",
   "execution_count": 457,
   "metadata": {},
   "outputs": [
    {
     "name": "stdout",
     "output_type": "stream",
     "text": [
      "Criando a conta:  <__main__.Conta object at 0x0000021FF55737F0>\n",
      "defaultdict(<class '__main__.Conta'>, {15: <__main__.Conta object at 0x0000021FF55737F0>})\n",
      "Criando a conta:  <__main__.Conta object at 0x0000021FF55CE830>\n",
      "defaultdict(<class '__main__.Conta'>, {15: <__main__.Conta object at 0x0000021FF55737F0>, 17: <__main__.Conta object at 0x0000021FF55CE830>})\n"
     ]
    }
   ],
   "source": [
    "contas = defaultdict(Conta)\n",
    "contas[15]\n",
    "print(contas)\n",
    "contas[17]\n",
    "print(contas)"
   ]
  },
  {
   "attachments": {},
   "cell_type": "markdown",
   "metadata": {},
   "source": [
    "# Testando o uso de diversas coleções"
   ]
  },
  {
   "cell_type": "code",
   "execution_count": 458,
   "metadata": {},
   "outputs": [],
   "source": [
    "def frequencia(texto, quantidade=10):\n",
    "    caracteres = Counter(texto)\n",
    "    total_de_caracteres = sum(caracteres.values())\n",
    "    caracteres_mais_comuns = caracteres.most_common(quantidade)\n",
    "    i = 0\n",
    "    for caracter, valor in caracteres_mais_comuns:\n",
    "        i += 1\n",
    "        frequencia = valor / total_de_caracteres\n",
    "        print('{:02d}: {} => {:.2%}.'.format(i, caracter, frequencia))"
   ]
  },
  {
   "cell_type": "code",
   "execution_count": 459,
   "metadata": {},
   "outputs": [],
   "source": [
    "texto1 = '''\n",
    "O Python foi concebido no final de 1989[5][8] por Guido van Rossum no Instituto de Pesquisa Nacional para Matemática e Ciência da Computação (CWI), nos Países Baixos, como um sucessor da ABC capaz de tratar exceções e prover interface com o sistema operacional Amoeba[9] através de scripts. Também da CWI, a linguagem ABC era mais produtiva que C, ainda que com o custo do desempenho em tempo de execução. Mas ela não possuía funcionalidades importantes para a interação com o sistema operacional, uma necessidade do grupo. Um dos focos primordiais de Python era aumentar a produtividade do programador.[8]\n",
    "\n",
    "Python foi feita com base na linguagem ABC, possui parte da sintaxe derivada do C, compreensão de listas, funções anonimas e função map de Haskell. Os iteradores são baseados na Icon, tratamentos de exceção e módulos da Modula-3, expressões regulares de Perl.\n",
    "\n",
    "Em 1991, Guido publicou o código (nomeado versão 0.9.0) no grupo de discussão alt.sources.[1] Nessa versão já estavam presentes classes com herança, tratamento de exceções, funções e os tipos de dado nativos list, dict, str, e assim por diante. Também estava presente nessa versão um sistema de módulos emprestado do Modula-3. O modelo de exceções também lembrava muito o do Modula-3, com a adição da opção else clause.[9]Em 1994 foi formado o principal fórum de discussão do Python, comp.lang.python, um marco para o crescimento da base de usuários da linguagem.\n",
    "\n",
    "A versão 1.0 foi lançada em janeiro de 1994. Novas funcionalidades incluíam ferramentas para programação funcional como lambda, map, filter e reduce. A última versão enquanto Guido estava na CWI foi o Python 1.2. Em 1995, ele continuou o trabalho no CNRI em Reston, Estados Unidos, de onde lançou diversas versões. Na versão 1.4 a linguagem ganhou parâmetros nomeados (a capacidade de passar parâmetro pelo nome e não pela posição na lista de parâmetros) e suporte nativo a números complexos, assim como uma forma de encapsulamento.[10]\n",
    "\n",
    "Ainda na CNRI, Guido lançou a iniciativa Computer Programming for Everybody (CP4E; literalmente, \"Programação de Computadores para Todos\"), que visava tornar a programação mais acessível, um projeto financiado pela DARPA.[11] Atualmente o CP4E encontra-se inativo.\n",
    "\n",
    "Em 2000, o time de desenvolvimento da linguagem se mudou para a BeOpen a fim de formar o time PythonLabs. A CNRI pediu que a versão 1.6 fosse lançada para marcar o fim de desenvolvimento da linguagem naquele local. O único lançamento na BeOpen foi o Python 2.0, e após o lançamento o grupo de desenvolvedores da PythonLabs agrupou-se na Digital Creations.\n",
    "\n",
    "Python 2.0 implementou list comprehension, uma relevante funcionalidade de linguagens funcionais como SETL e Haskell. A sintaxe da linguagem para essa construção é bastante similar a de Haskell, exceto pela preferência do Haskell por caracteres de pontuação e da preferência do python por palavras reservadas alfabéticas. Essa versão 2.0 também introduziu um sistema coletor de lixo capaz de identificar e tratar ciclos de referências.[12]\n",
    "\n",
    "Já o 1.6 incluiu uma licença CNRI substancialmente mais longa que a licença CWI que estavam usando nas versões anteriores. Entre outras mudanças, essa licença incluía uma cláusula atestando que a licença era governada pelas leis da Virgínia. A Free Software Foundation alegou que isso era incompatível com a GNU GPL. Tanto BeOpen quanto CNRI e FSF negociaram uma mudança na licença livre do Python que o tornaria compatível com a GPL. Python 1.6.1 é idêntico ao 1.6.0, exceto por pequenas correções de falhas e uma licença nova, compatível com a GPL.[13]\n",
    "\n",
    "Python 2.1 era parecido com as versões 1.6.1 e 2.0. Sua licença foi renomeada para Python Software Foundation License.[4] Todo código, documentação e especificação desde o lançamento da versão alfa da 2.1 é propriedade da Python Software Foundation (PSF), uma organização sem fins lucrativos fundada em 2001, um modelo tal qual da Apache Software Foundation.[13] O lançamento incluiu a mudança na especificação para suportar escopo aninhado, assim como outras linguagens com escopo estático.[14] Esta funcionalidade estava desativada por padrão, e somente foi requerida na versão 2.2.\n",
    "\n",
    "Uma grande inovação da versão 2.2 foi a unificação dos tipos Python (escritos em C) e classes (escritas em Python) em somente uma hierarquia. Isto tornou o modelo de objetos do Python consistentemente orientado a objeto.[15] Também foi adicionado generator, inspirado em Icon.[16]\n",
    "\n",
    "O incremento da biblioteca padrão e as escolhas sintáticas foram fortemente influenciadas por Java em alguns casos: o pacote logging[17] introduzido na versão 2.3,[18] o analisador sintático SAX, introduzido na versão 2.0 e a sintaxe de decoradores que usa @,[19] adicionadas na versão 2.4.[20]\n",
    "\n",
    "Em 1 de outubro de 2008 foi lançada a versão 2.6, já visando a transição para a versão 3.0 da linguagem. Entre outras modificações, foram incluídas bibliotecas para multiprocessamento, JSON e E/S, além de uma nova forma de formatação de cadeias de caracteres.[21]\n",
    "\n",
    "Atualmente a linguagem é usada em diversas áreas, como servidores de aplicação e computação gráfica. Está disponível como linguagem de script em aplicações como OpenOffice (Python UNO Bridge), Blender e pode ser utilizada em procedimentos armazenados no sistema gerenciador de banco de dados PostgreSQL (PL/Python).\n",
    "\n",
    "A terceira versão da linguagem foi lançada em dezembro de 2008,[22] chamada Python 3.0 ou Python 3000. Com noticiado desde antes de seu lançamento,[23] houve quebra de compatibilidade com a família 2.x para corrigir falhas que foram descobertas neste padrão, e para limpar os excessos das versões anteriores.[8] A primeira versão alfa foi lançada em 31 de agosto de 2007, a segunda em 7 de dezembro do mesmo ano.\n",
    "\n",
    "Mudanças da versão incluem a alteração da palavra reservada print, que passa a ser uma função, tornando mais fácil a utilização de uma versão alternativa da rotina. Em Python 2.6, isso já está disponível ao adicionar o código from __future__ import print_function.[24] Também, a mudança para Unicode de todas as cadeias de caracteres.[25]\n",
    "\n",
    "Em 2012, foi criado o Raspberry Pi, cujo nome foi baseado na linguagem Python. Uma das principais linguagens escolhidas é Python. Python influenciou várias linguagens, algumas delas foram Boo e Cobra, que usa a indentação como definição de bloco e Go, que se baseia nos princípios de desenvolvimento rápido de Python.\n",
    "\n",
    "Atualmente, Python é um dos componentes padrão de vários sistemas operacionais, entre eles estão a maioria das distribuições do Linux, AmigaOS 4, FreeBSD, NetBSD, OpenBSD e OS X. A linguagem se tornou a padrão no curso de ciências da computação do MIT em 2009 \n",
    "'''"
   ]
  },
  {
   "cell_type": "code",
   "execution_count": 460,
   "metadata": {},
   "outputs": [],
   "source": [
    "texto2 = '''\n",
    "Em 1993, o Centro Nacional de Aplicações de Supercomputação (NCSA), uma unidade da Universidade de Illinois em Urbana-Champaign, lançou o NCSA Mosaic, o primeiro navegador gráfico popular da Web, que desempenhou um papel importante na expansão do crescimento da nascente World Wide Web além do nicho NeXTSTEP onde a World Wide Web havia se formado três anos antes. Em 1994, uma empresa chamada Mosaic Communications foi fundada em Mountain View, na Califórnia, e empregou muitos dos autores originais do NCSA Mosaic para criar o Mosaic Netscape. No entanto, não compartilhou intencionalmente nenhum código com o NCSA Mosaic. O codinome interno do navegador da empresa era Mozilla, uma junção de \"Mosaic and Godzilla\". A primeira versão do navegador da Web, Mosaic Netscape 0.9, foi lançada no final de 1994. Em quatro meses, já havia conquistado três quartos do mercado de navegadores e se tornado o principal navegador da Web nos anos 90. Para evitar problemas de propriedade de marca registrada com o NCSA, o navegador foi posteriormente renomeado para Netscape Navigator no mesmo ano, e a empresa assumiu o nome de Netscape Communications. A Netscape Communications percebeu que a Web precisava se tornar mais dinâmica. Marc Andreessen, o fundador da empresa, acreditava que o HTML precisava de uma \"linguagem de cola\" que fosse fácil de usar por Web designers e programadores de meio período para montar componentes como imagens e plugins, onde o código poderia ser escrito diretamente na Web.[9]\n",
    "\n",
    "Em 1995, a Netscape Communications recrutou Brendan Eich com o objetivo de incorporar a linguagem de programação Scheme em seu Netscape Navigator.[10] Antes que ele pudesse começar, a Netscape Communications colaborou com a Sun Microsystems para incluir na linguagem de programação mais estática do Netscape Navigator Sun, Java, a fim de competir com a Microsoft pela adoção de tecnologias e plataformas da Web.[11] A Netscape Communications decidiu então que a linguagem de script que eles queriam criar complementaria o Java e deveria ter uma sintaxe semelhante, o que excluía a adoção de outras linguagens como Perl, Python, TCL ou Scheme. Para defender a ideia do JavaScript contra propostas concorrentes, a empresa precisava de um protótipo. Eich escreveu um em 10 dias, em maio de 1995.\n",
    "\n",
    "Embora tenha sido desenvolvido sob o nome Mocha, a linguagem foi oficialmente chamada de LiveScript quando foi lançada em versões beta do Netscape Navigator 2.0 em setembro de 1995, mas foi renomeada para JavaScript[12] quando foi lançada no Netscape Navigator 2.0 beta 3 Dezembro.[13] A escolha final do nome causou confusão, dando a impressão de que a linguagem era uma derivação da linguagem de programação Java, e a escolha foi caracterizada como uma manobra de marketing da Netscape para dar ao JavaScript o status da linguagem da moda, o Java.\n",
    "\n",
    "Há um equívoco comum de que o JavaScript foi influenciado por uma linguagem de script de página da Web desenvolvida pelo Nombas chamada Cmm (não confundir com o C posteriormente - criado em 1997).[14] Brendan Eich, no entanto, nunca tinha ouvido falar de Cmm antes de criar o LiveScript.[15] Os Nombas lançaram seus scripts de página da Web incorporados no Netscape, embora o script de página da Web não fosse um conceito novo, conforme mostrado pelo navegador da Web ViolaWWW. Nombas mais tarde passou a oferecer JavaScript em vez de Cmm em seu produto ScriptEase e fazia parte do grupo TC39 que padronizava o ECMAScript.[16] \n",
    "'''"
   ]
  },
  {
   "cell_type": "code",
   "execution_count": 461,
   "metadata": {},
   "outputs": [
    {
     "name": "stdout",
     "output_type": "stream",
     "text": [
      "01:   => 15.45%.\n",
      "02: a => 9.19%.\n",
      "03: e => 8.15%.\n",
      "04: o => 7.61%.\n",
      "05: s => 5.20%.\n",
      "06: n => 4.78%.\n",
      "07: i => 4.68%.\n",
      "08: r => 4.23%.\n",
      "09: d => 4.08%.\n",
      "10: t => 3.67%.\n"
     ]
    }
   ],
   "source": [
    "frequencia(texto1)"
   ]
  },
  {
   "cell_type": "code",
   "execution_count": 462,
   "metadata": {},
   "outputs": [
    {
     "name": "stdout",
     "output_type": "stream",
     "text": [
      "01:   => 16.00%.\n",
      "02: a => 9.78%.\n",
      "03: e => 8.89%.\n",
      "04: o => 7.77%.\n",
      "05: i => 4.98%.\n",
      "06: r => 4.92%.\n",
      "07: n => 4.52%.\n",
      "08: d => 4.23%.\n",
      "09: m => 4.11%.\n",
      "10: s => 4.06%.\n"
     ]
    }
   ],
   "source": [
    "frequencia(texto2)"
   ]
  }
 ],
 "metadata": {
  "kernelspec": {
   "display_name": "Python 3",
   "language": "python",
   "name": "python3"
  },
  "language_info": {
   "codemirror_mode": {
    "name": "ipython",
    "version": 3
   },
   "file_extension": ".py",
   "mimetype": "text/x-python",
   "name": "python",
   "nbconvert_exporter": "python",
   "pygments_lexer": "ipython3",
   "version": "3.10.6"
  },
  "orig_nbformat": 4,
  "vscode": {
   "interpreter": {
    "hash": "bf2d88a0a1a0216eaf1c5e28c5b2b84861d6d0c3c56d476b83097a0f926c7591"
   }
  }
 },
 "nbformat": 4,
 "nbformat_minor": 2
}
