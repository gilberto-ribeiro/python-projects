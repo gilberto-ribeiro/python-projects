{
 "cells": [
  {
   "cell_type": "code",
   "execution_count": 364,
   "metadata": {},
   "outputs": [],
   "source": [
    "import numpy as np\n",
    "from scipy import io, integrate, linalg, signal\n",
    "from scipy.sparse.linalg import cg, eigs\n",
    "import matplotlib as mpl\n",
    "import matplotlib.pyplot as plt"
   ]
  },
  {
   "attachments": {},
   "cell_type": "markdown",
   "metadata": {},
   "source": [
    "# Capítulo 5"
   ]
  },
  {
   "attachments": {},
   "cell_type": "markdown",
   "metadata": {},
   "source": [
    "## Exemplo 5.1"
   ]
  },
  {
   "cell_type": "code",
   "execution_count": 365,
   "metadata": {},
   "outputs": [
    {
     "name": "stdout",
     "output_type": "stream",
     "text": [
      "[9.57142857 8.5        8.5       ]\n"
     ]
    }
   ],
   "source": [
    "A = np.array([[-7, 0, 2], [7, -8, 0], [0, 8, -8]])\n",
    "B = np.array([-50, -1, 0])\n",
    "C = linalg.solve(A, B)\n",
    "print(C)"
   ]
  },
  {
   "attachments": {},
   "cell_type": "markdown",
   "metadata": {},
   "source": [
    "## Exemplo 5.2"
   ]
  },
  {
   "cell_type": "code",
   "execution_count": 366,
   "metadata": {},
   "outputs": [
    {
     "name": "stdout",
     "output_type": "stream",
     "text": [
      "[34.17536221 42.80834772 51.09601381]\n"
     ]
    }
   ],
   "source": [
    "A = np.array([[-250, 0, 40], [240, -250, 0], [0, 240, -250]])\n",
    "B = np.array([-6500, -2500, -2500])\n",
    "# T = linalg.solve(A, B)\n",
    "T = linalg.inv(A) @ B\n",
    "print(T)"
   ]
  },
  {
   "attachments": {},
   "cell_type": "markdown",
   "metadata": {},
   "source": [
    "## Newton-Rhapson para Sistemas de Equações Não Lineares"
   ]
  },
  {
   "cell_type": "code",
   "execution_count": 367,
   "metadata": {},
   "outputs": [],
   "source": [
    "def newton_rhapson(f, x_est, df = None, i_max = 20, dx = 1e-6):\n",
    "    x = [list(x_est)]\n",
    "    for i in range(i_max):\n",
    "        X = np.array(x[i])\n",
    "        if df is None:\n",
    "            dF = np.array(diff(f, x[i], dx))\n",
    "        else:\n",
    "            dF = np.array(df(X))\n",
    "        F = np.array(f(X))\n",
    "        X = X - linalg.inv(dF) @ F\n",
    "        x.append(list(X))\n",
    "    return x"
   ]
  },
  {
   "attachments": {},
   "cell_type": "markdown",
   "metadata": {},
   "source": [
    "## Diferenciação Numérica"
   ]
  },
  {
   "cell_type": "code",
   "execution_count": 368,
   "metadata": {},
   "outputs": [],
   "source": [
    "def diff(f, x, dx = 1e-6):\n",
    "    df = list()\n",
    "    x_orig = x.copy()\n",
    "    for i in range(len(x_orig)):\n",
    "        x[i] += dx\n",
    "        df.append((np.array(f(x)) - np.array(f(x_orig))) / dx)\n",
    "        x = x_orig.copy()\n",
    "    df = np.array(df).transpose()\n",
    "    df = [list(i) for i in df]\n",
    "    return df"
   ]
  },
  {
   "attachments": {},
   "cell_type": "markdown",
   "metadata": {},
   "source": [
    "## Exemplo da Seção 5.2.1"
   ]
  },
  {
   "cell_type": "code",
   "execution_count": 369,
   "metadata": {},
   "outputs": [],
   "source": [
    "def f(x):\n",
    "    Ca = x[0]\n",
    "    Cb = x[1]\n",
    "    u = Ca + 0.06*Ca*Cb - 200\n",
    "    v = Cb + 0.06*Ca*Cb - 200\n",
    "    return [u, v]\n",
    "\n",
    "def df(x):\n",
    "    Ca = x[0]\n",
    "    Cb = x[1]\n",
    "    du_dCa = 1 + 0.06*Cb\n",
    "    du_dCb = 0.06 * Ca\n",
    "    dv_dCa = 0.06 * Cb\n",
    "    dv_dCb = 1 + 0.06*Ca\n",
    "    return [[du_dCa, du_dCb], [dv_dCa, dv_dCb]]"
   ]
  },
  {
   "cell_type": "code",
   "execution_count": 370,
   "metadata": {},
   "outputs": [
    {
     "name": "stdout",
     "output_type": "stream",
     "text": [
      "0 [200, 200]\n",
      "1 [103.99999999999977, 104.0]\n",
      "2 [62.979228486646804, 62.97922848664683]\n",
      "3 [51.18114093652843, 51.18114093652841]\n",
      "4 [50.011720627032815, 50.01172062703282]\n",
      "5 [50.00000117724716, 50.000001177247164]\n",
      "6 [50.000000000000014, 50.00000000000002]\n"
     ]
    }
   ],
   "source": [
    "C = newton_rhapson(f, [200, 200], df, i_max = 6)\n",
    "for i, v in enumerate(C):\n",
    "    print(i, v)"
   ]
  },
  {
   "cell_type": "code",
   "execution_count": 371,
   "metadata": {},
   "outputs": [
    {
     "name": "stdout",
     "output_type": "stream",
     "text": [
      "[[13.0, 12.0], [12.0, 13.0]]\n",
      "[[12.99999999901047, 12.000000001535227], [11.999999996987754, 13.000000003557943]]\n"
     ]
    }
   ],
   "source": [
    "a = df([200, 200])\n",
    "print(a)\n",
    "b = diff(f, [200, 200], 1e-4)\n",
    "print(b)"
   ]
  },
  {
   "attachments": {},
   "cell_type": "markdown",
   "metadata": {},
   "source": [
    "### Problema Proposto 5.1"
   ]
  },
  {
   "cell_type": "code",
   "execution_count": 372,
   "metadata": {},
   "outputs": [
    {
     "name": "stdout",
     "output_type": "stream",
     "text": [
      "[[0.5  0.33 0.  ]\n",
      " [0.5  0.33 0.7 ]\n",
      " [0.   0.34 0.3 ]]\n"
     ]
    }
   ],
   "source": [
    "A = np.array([[0.50, 0.33, 0], [0.50, 0.33, 0.70], [0, 0.34, 0.30]])\n",
    "print(A)"
   ]
  },
  {
   "cell_type": "code",
   "execution_count": 373,
   "metadata": {},
   "outputs": [
    {
     "name": "stdout",
     "output_type": "stream",
     "text": [
      "[30. 40. 30.]\n"
     ]
    }
   ],
   "source": [
    "B = np.array([0.30, 0.40, 0.30]) * 100\n",
    "print(B)"
   ]
  },
  {
   "cell_type": "code",
   "execution_count": 374,
   "metadata": {},
   "outputs": [
    {
     "name": "stdout",
     "output_type": "stream",
     "text": [
      "[10.08403361 75.6302521  14.28571429]\n",
      "100.0\n"
     ]
    }
   ],
   "source": [
    "F = linalg.inv(A) @ B\n",
    "print(F)\n",
    "print(sum(F))"
   ]
  },
  {
   "attachments": {},
   "cell_type": "markdown",
   "metadata": {},
   "source": [
    "### Problema Proposto 5.2"
   ]
  },
  {
   "cell_type": "code",
   "execution_count": 375,
   "metadata": {},
   "outputs": [],
   "source": [
    "Qin, Q32, Q43 = 10, 5, 3\n",
    "V1, V2, V3, V4 = 25, 75, 100, 25\n",
    "k1, k2, k3, k4 = 0.075, 0.15, 0.4, 0.1\n",
    "Cain = 1"
   ]
  },
  {
   "cell_type": "code",
   "execution_count": 376,
   "metadata": {},
   "outputs": [
    {
     "name": "stdout",
     "output_type": "stream",
     "text": [
      "[[-1  0  0  0]\n",
      " [ 1 -1  0  0]\n",
      " [ 0  1 -1  0]\n",
      " [ 0  0  1 -1]]\n"
     ]
    }
   ],
   "source": [
    "A = np.array([\n",
    "    [-1, 0, 0, 0],\n",
    "    [1, -1, 0, 0],\n",
    "    [0, 1, -1, 0],\n",
    "    [0, 0, 1, -1]\n",
    "])\n",
    "print(A)"
   ]
  },
  {
   "cell_type": "code",
   "execution_count": 377,
   "metadata": {},
   "outputs": [
    {
     "name": "stdout",
     "output_type": "stream",
     "text": [
      "[-10  -5   2   3]\n"
     ]
    }
   ],
   "source": [
    "B = np.array([-Qin, -Q32, -Q43+Q32, Q43])\n",
    "print(B)"
   ]
  },
  {
   "cell_type": "code",
   "execution_count": 378,
   "metadata": {},
   "outputs": [
    {
     "name": "stdout",
     "output_type": "stream",
     "text": [
      "[10. 15. 13. 10.]\n"
     ]
    }
   ],
   "source": [
    "Q = linalg.inv(A) @ B\n",
    "print(Q)\n",
    "Q12, Q23, Q34, Qout = Q"
   ]
  },
  {
   "cell_type": "code",
   "execution_count": 379,
   "metadata": {},
   "outputs": [
    {
     "name": "stdout",
     "output_type": "stream",
     "text": [
      "[[-11.875   0.      0.      0.   ]\n",
      " [ 10.    -26.25    5.      0.   ]\n",
      " [  0.     15.    -58.      3.   ]\n",
      " [  0.      0.     13.    -15.5  ]]\n"
     ]
    }
   ],
   "source": [
    "A = np.array([\n",
    "    [-Q12-k1*V1, 0, 0, 0],\n",
    "    [Q12, -Q23-k2*V2, Q32, 0],\n",
    "    [0, Q23, -Q34-Q32-k3*V3, Q43],\n",
    "    [0, 0, Q34, -Qout-Q43-k4*V4]\n",
    "])\n",
    "print(A)"
   ]
  },
  {
   "cell_type": "code",
   "execution_count": 380,
   "metadata": {},
   "outputs": [
    {
     "name": "stdout",
     "output_type": "stream",
     "text": [
      "[-10   0   0   0]\n"
     ]
    }
   ],
   "source": [
    "B = np.array([-Qin*Cain, 0, 0, 0])\n",
    "print(B)"
   ]
  },
  {
   "cell_type": "code",
   "execution_count": 381,
   "metadata": {},
   "outputs": [
    {
     "name": "stdout",
     "output_type": "stream",
     "text": [
      "[0.84210526 0.33821858 0.091437   0.0766891 ]\n"
     ]
    }
   ],
   "source": [
    "C = linalg.inv(A) @ B\n",
    "print(C)"
   ]
  },
  {
   "attachments": {},
   "cell_type": "markdown",
   "metadata": {},
   "source": [
    "### Problema Proposto 5.3"
   ]
  },
  {
   "cell_type": "code",
   "execution_count": 382,
   "metadata": {},
   "outputs": [],
   "source": [
    "def f(x):\n",
    "    Ca, Cb, Cc, Cd = x\n",
    "    Cain, Cbin, Ccin, Cdin = 0.7, 0.4, 0, 0\n",
    "    F = 5 / 60\n",
    "    k = 0.855\n",
    "    V = 40\n",
    "    ua = F*(Cain - Ca) - k*Ca*Cb*V\n",
    "    ub = F*(Cbin - Cb) - k*Ca*Cb*V\n",
    "    uc = F*(Ccin - Cc) + k*Ca*Cb*V\n",
    "    ud = F*(Cdin - Cd) + k*Ca*Cb*V\n",
    "    return [ua, ub, uc, ud]"
   ]
  },
  {
   "cell_type": "code",
   "execution_count": 383,
   "metadata": {},
   "outputs": [],
   "source": [
    "def df(x):\n",
    "    Ca, Cb, Cc, Cd = x\n",
    "    # Cain, Cbin, Ccin, Cdin = 0.7, 0.4, 0, 0\n",
    "    F = 5 / 60\n",
    "    k = 0.855\n",
    "    V = 40\n",
    "    dua_dCa = -F - k*Cb*V\n",
    "    dua_dCb = -k*Ca*V\n",
    "    dua_dCc = 0\n",
    "    dua_dCd = 0\n",
    "    dub_dCa = -k*Cb*V\n",
    "    dub_dCb = -F - k*Ca*V\n",
    "    dub_dCc = 0\n",
    "    dub_dCd = 0\n",
    "    duc_dCa = k*Cb*V\n",
    "    duc_dCb = k*Ca*V\n",
    "    duc_dCc = -F\n",
    "    duc_dCd = 0\n",
    "    dud_dCa = k*Cb*V\n",
    "    dud_dCb = k*Ca*V\n",
    "    dud_dCc = 0\n",
    "    dud_dCd = -F\n",
    "    return [\n",
    "        [dua_dCa, dua_dCb, dua_dCc, dua_dCd],\n",
    "        [dub_dCa, dub_dCb, dub_dCc, dub_dCd],\n",
    "        [duc_dCa, duc_dCb, duc_dCc, duc_dCd],\n",
    "        [dud_dCa, dud_dCb, dud_dCc, dud_dCd]\n",
    "    ]"
   ]
  },
  {
   "cell_type": "code",
   "execution_count": 384,
   "metadata": {},
   "outputs": [
    {
     "name": "stdout",
     "output_type": "stream",
     "text": [
      "[[-13.763333333333335, -23.939999999999998, 0, 0], [-13.680000000000001, -24.02333333333333, 0, 0], [13.680000000000001, 23.939999999999998, -0.08333333333333333, 0], [13.680000000000001, 23.939999999999998, 0, -0.08333333333333333]]\n",
      "[[-13.76333333334756, -23.940000000006734, 0.0, 0.0], [-13.68000000001146, -24.023333333342833, 0.0, 0.0], [13.68000000001146, 23.940000000006734, -0.08333333333609971, 0.0], [13.68000000001146, 23.940000000006734, 0.0, -0.08333333333609971]]\n"
     ]
    }
   ],
   "source": [
    "x = [0.7, 0.4, 0, 0]\n",
    "a = df(x)\n",
    "print(a)\n",
    "b = diff(f, x, 1e-4)\n",
    "print(b)"
   ]
  },
  {
   "cell_type": "code",
   "execution_count": 385,
   "metadata": {},
   "outputs": [
    {
     "name": "stdout",
     "output_type": "stream",
     "text": [
      "0 [0.700001, 0.4, 0, 0]\n",
      "1 [0.44601815144756035, 0.14601715144754623, 0.253982848552468, 0.2539828485524609]\n",
      "2 [0.3375060578719658, 0.03750505787196501, 0.3624949421280341, 0.36249494154977135]\n",
      "3 [0.3063099380446022, 0.006308938023820709, 0.3936910619553986, 0.39369106195539816]\n",
      "4 [0.3032209555749126, 0.0032199555749126505, 0.39678004442508735, 0.39678004442508735]\n",
      "5 [0.3031900635814098, 0.0031890635814099183, 0.3968109364185901, 0.3968109364185901]\n",
      "6 [0.30319006049115854, 0.0031890604911586143, 0.3968109395088414, 0.3968109395088414]\n",
      "7 [0.3031900604911585, 0.003189060491158584, 0.39681093950884144, 0.39681093950884144]\n",
      "8 [0.3031900604911585, 0.003189060491158584, 0.39681093950884144, 0.39681093950884144]\n",
      "9 [0.3031900604911585, 0.003189060491158584, 0.39681093950884144, 0.39681093950884144]\n",
      "10 [0.3031890604911585, 0.003189060491158584, 0.39681093950884144, 0.39681093950884144]\n",
      "9.999999999177334e-07\n"
     ]
    }
   ],
   "source": [
    "C = newton_rhapson(f, [0.7, 0.4, 0, 0], i_max = 10)\n",
    "for i, v in enumerate(C):\n",
    "    print(i, v)\n",
    "print(sum(C[0]) - sum(C[-1]))"
   ]
  },
  {
   "attachments": {},
   "cell_type": "markdown",
   "metadata": {},
   "source": [
    "# Capítulo 6"
   ]
  },
  {
   "attachments": {},
   "cell_type": "markdown",
   "metadata": {},
   "source": [
    "Método de Euler"
   ]
  },
  {
   "cell_type": "code",
   "execution_count": 386,
   "metadata": {},
   "outputs": [],
   "source": [
    "# WIP\n",
    "def euler(f, IC, int, N=1000):\n",
    "    X = np.linspace(*int, N + 1)\n",
    "    h = X[1] - X[0]\n",
    "    y = np.array(IC.copy())\n",
    "    Y = list()\n",
    "    for x in X:\n",
    "        Y.append(y)\n",
    "        k1 = h * np.array(f(x, y))\n",
    "        y = y + k1\n",
    "    return X, np.array(Y).transpose()"
   ]
  },
  {
   "cell_type": "code",
   "execution_count": 387,
   "metadata": {},
   "outputs": [],
   "source": [
    "def rk4(f, IC, int, N=1000):\n",
    "    X = np.linspace(*int, N + 1)\n",
    "    h = X[1] - X[0]\n",
    "    y = np.array(IC.copy())\n",
    "    Y = list()\n",
    "    for x in X:\n",
    "        Y.append(y)\n",
    "        k1 = np.array(f(x, y))\n",
    "        k2 = np.array(f(x + 0.5*h, y + 0.5*h*k1))\n",
    "        k3 = np.array(f(x + 0.5*h, y + 0.5*h*k2))\n",
    "        k4 = np.array(f(x + h, y + h*k3))\n",
    "        y = y + (h / 6) * (k1 + 2*k2 + 2*k3 + k4)\n",
    "    return X, np.array(Y).transpose()"
   ]
  },
  {
   "cell_type": "code",
   "execution_count": 388,
   "metadata": {},
   "outputs": [],
   "source": [
    "def f(x, y):\n",
    "    t = x\n",
    "    V = y[0]\n",
    "    T = y[1]\n",
    "    Q = 0.5\n",
    "    Qin = 2 * Q\n",
    "    Qout1 = Q\n",
    "    Qout2 = Q # 0\n",
    "    Tin = 273.15 + 30\n",
    "    dV = Qin - (Qout1 + Qout2)\n",
    "    dT = (1 / V) * (Qin*Tin - (Qout1*T + Qout2*T) - T*dV)\n",
    "    return [dV, dT]"
   ]
  },
  {
   "cell_type": "code",
   "execution_count": 389,
   "metadata": {},
   "outputs": [],
   "source": [
    "x, y = rk4(f, [10, 20+273.15], (0, 60), 5000)"
   ]
  },
  {
   "cell_type": "code",
   "execution_count": 390,
   "metadata": {},
   "outputs": [
    {
     "data": {
      "image/png": "[encoded data removed]",
      "text/plain": [
       "<Figure size 640x480 with 1 Axes>"
      ]
     },
     "metadata": {},
     "output_type": "display_data"
    }
   ],
   "source": [
    "fig, ax = plt.subplots()\n",
    "ax.plot(x, y[0], label='V', c='g')\n",
    "ax.plot(x, y[1]-273.15, label='T', c='k')\n",
    "ax.set_xlabel('Tempo [h]')\n",
    "ax.set_ylabel('Nível do tanque [m]')\n",
    "ax.set_title('Altura do tanque por tempo', family='cursive')\n",
    "ax.set_xlim((0, 60))\n",
    "ax.legend()\n",
    "plt.show()"
   ]
  },
  {
   "cell_type": "code",
   "execution_count": 391,
   "metadata": {},
   "outputs": [],
   "source": [
    "def edo3_7(x, y):\n",
    "    t = x\n",
    "    T1 = y[0]\n",
    "    T2 = y[1]\n",
    "    T3 = y[2]\n",
    "    T0 = 20 + 273\n",
    "    W = 100\n",
    "    m = 1000\n",
    "    cp = 20\n",
    "    UA = 10\n",
    "    Tsteam = 250 + 273.15\n",
    "    dT1 = (W / m) * (T0 - T1) - (UA) / (m * cp) * (T1 - Tsteam)\n",
    "    dT2 = (W / m) * (T1 - T2) - (UA) / (m * cp) * (T2 - Tsteam)\n",
    "    dT3 = (W / m) * (T2 - T3) - (UA) / (m * cp) * (T3 - Tsteam)\n",
    "    return [dT1, dT2, dT3]"
   ]
  },
  {
   "cell_type": "code",
   "execution_count": 407,
   "metadata": {},
   "outputs": [
    {
     "data": {
      "image/png": "[encoded data removed]",
      "text/plain": [
       "<Figure size 640x480 with 1 Axes>"
      ]
     },
     "metadata": {},
     "output_type": "display_data"
    }
   ],
   "source": [
    "IC = 3 * [20 + 273.15]\n",
    "int = (0, 120)\n",
    "t, Temp = euler(edo3_7, IC, int)\n",
    "\n",
    "labels = [r'$T_1$', r'$T_2$', r'$T_3$']\n",
    "\n",
    "fig, ax = plt.subplots()\n",
    "for T, label in zip(Temp, labels):\n",
    "    ax.plot(t, T - 273.15, label=label)\n",
    "ax.set_title('Temperatura por tempo')\n",
    "ax.set_xlabel('Tempo [min]')\n",
    "ax.set_ylabel('Temperatura [°C]')\n",
    "ax.axis([*int, 20, 23.5])\n",
    "ax.legend()\n",
    "plt.show()"
   ]
  },
  {
   "cell_type": "code",
   "execution_count": 393,
   "metadata": {},
   "outputs": [],
   "source": [
    "def edo3_8(x, y):\n",
    "    t = x\n",
    "    Ca = y[0]\n",
    "    Cb = y[1]\n",
    "    Cc = y[2]\n",
    "    Cd = y[3]\n",
    "    Cain = 0.7\n",
    "    Cbin = 0.4\n",
    "    Ccin = 0\n",
    "    Cdin = 0\n",
    "    F = 5\n",
    "    V = 40\n",
    "    k = 0.855 * 60\n",
    "    dCa = (F / V) * (Cain - Ca) - k * Ca * Cb\n",
    "    dCb = (F / V) * (Cbin - Cb) - k * Ca * Cb\n",
    "    dCc = (F / V) * (Ccin - Cc) + k * Ca * Cb\n",
    "    dCd = (F / V) * (Cdin - Cd) + k * Ca * Cb\n",
    "    return [dCa, dCb, dCc, dCd]"
   ]
  },
  {
   "cell_type": "code",
   "execution_count": 398,
   "metadata": {},
   "outputs": [
    {
     "name": "stdout",
     "output_type": "stream",
     "text": [
      "(0, 60)\n"
     ]
    },
    {
     "data": {
      "image/png": "[encoded data removed]",
      "text/plain": [
       "<Figure size 640x480 with 1 Axes>"
      ]
     },
     "metadata": {},
     "output_type": "display_data"
    }
   ],
   "source": [
    "IC = [0, 0, 0, 0.8]\n",
    "int = (0, 60)\n",
    "t, C = rk4(edo3_8, IC, int)\n",
    "\n",
    "labels = [r'$C_A$', r'$C_B$', r'$C_C$', r'$C_D$']\n",
    "\n",
    "fig, ax = plt.subplots()\n",
    "for c, label in zip(C, labels):\n",
    "    ax.plot(t, c, label=label)\n",
    "ax.set_title('Concentração por tempo')\n",
    "ax.set_xlabel('Tempo [min]')\n",
    "ax.set_ylabel('Concentração [mol/L]')\n",
    "ax.axis([*int, 0, 0.8])\n",
    "ax.legend()\n",
    "print(int)\n",
    "plt.show()"
   ]
  }
 ],
 "metadata": {
  "kernelspec": {
   "display_name": "Python 3",
   "language": "python",
   "name": "python3"
  },
  "language_info": {
   "codemirror_mode": {
    "name": "ipython",
    "version": 3
   },
   "file_extension": ".py",
   "mimetype": "text/x-python",
   "name": "python",
   "nbconvert_exporter": "python",
   "pygments_lexer": "ipython3",
   "version": "3.10.6"
  },
  "orig_nbformat": 4
 },
 "nbformat": 4,
 "nbformat_minor": 2
}
